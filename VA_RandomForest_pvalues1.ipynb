{
 "cells": [
  {
   "cell_type": "markdown",
   "metadata": {},
   "source": [
    "# Introduction\n",
    "This notebook calculates pValues for the independant variables via bootstrapping.  Note that we are just looking for p-values. So train the rf on the entire dataset with 1 column scrambled, then get MEMs .  Do this many times.  Then train the entire rf with that column unscrambled, then get MEMs.  Plot these MEMs values.\n",
    "Please be sure to run DataCleaning.ipynb first to prepare the data\n",
    "\n",
    "This notebook based on Fastai V1 ML course"
   ]
  },
  {
   "cell_type": "markdown",
   "metadata": {},
   "source": [
    "## Imports\n",
    "Import libraries and write settings here."
   ]
  },
  {
   "cell_type": "code",
   "execution_count": null,
   "metadata": {},
   "outputs": [],
   "source": [
    "from fastai.tabular import *\n",
    "from fastai import *\n",
    "\n",
    "# Data manipulation\n",
    "import pandas as pd\n",
    "import numpy as np\n",
    "\n",
    "# Options for pandas\n",
    "pd.options.display.max_columns = 60\n",
    "pd.options.display.max_rows = 60\n",
    "\n",
    "# Display all cell outputs\n",
    "from IPython.core.interactiveshell import InteractiveShell\n",
    "InteractiveShell.ast_node_interactivity = 'all'\n",
    "\n",
    "from IPython import get_ipython\n",
    "ipython = get_ipython()\n",
    "\n",
    "# autoreload extension\n",
    "if 'autoreload' not in ipython.extension_manager.loaded:\n",
    "    %load_ext autoreload\n",
    "\n",
    "%autoreload 2\n",
    "\n",
    "# Visualizations\n",
    "import plotly.plotly as py\n",
    "import plotly.graph_objs as go\n",
    "from plotly.offline import iplot, init_notebook_mode\n",
    "init_notebook_mode(connected=True)\n",
    "\n",
    "import cufflinks as cf\n",
    "cf.go_offline(connected=True)\n",
    "cf.set_config_file(theme='white')"
   ]
  },
  {
   "cell_type": "markdown",
   "metadata": {},
   "source": [
    "# Load train/test\n",
    "If either of the following fail then please be sure to run DataCleaning.ipynb first to prepare the data"
   ]
  },
  {
   "cell_type": "code",
   "execution_count": null,
   "metadata": {},
   "outputs": [],
   "source": [
    "# first column in each file is the dependent variable, the rest are independant\n",
    "csv_files=['vote12gop','TrumpGEVote','TrumpPVote']\n",
    "\n",
    "whichfle=2\n",
    "fn = csv_files[whichfle]\n",
    "\n",
    "trnfile = 'tmp/' + fn +'_train'\n",
    "tstfile = 'tmp/' + fn +'_tst'\n",
    "jsonfile = 'tmp/' + fn + '_catcont.json'\n",
    "\n",
    "outdir = 'outBElectionResultsPVALSs'\n",
    "filename='results.csv'\n",
    "filename_all = 'results_complete.csv'\n",
    "filename_model_params = \"RF_model_params.sav\"\n",
    "os.makedirs(outdir, exist_ok=True)"
   ]
  },
  {
   "cell_type": "code",
   "execution_count": null,
   "metadata": {},
   "outputs": [],
   "source": [
    "trnfile"
   ]
  },
  {
   "cell_type": "code",
   "execution_count": null,
   "metadata": {},
   "outputs": [],
   "source": [
    "#get processed training and test data\n",
    "trn = pd.read_feather(trnfile)\n",
    "tst = pd.read_feather(tstfile)\n",
    "# columns_dep_var= 'cc.vote16'"
   ]
  },
  {
   "cell_type": "code",
   "execution_count": null,
   "metadata": {},
   "outputs": [],
   "source": [
    "trn.head()"
   ]
  },
  {
   "cell_type": "code",
   "execution_count": null,
   "metadata": {},
   "outputs": [],
   "source": [
    "trn.drop('index',axis=1,inplace=True);\n",
    "tst.drop('index',axis=1,inplace=True);"
   ]
  },
  {
   "cell_type": "markdown",
   "metadata": {},
   "source": [
    "## Get continuous and categorical variables, convert dependant variable to int64"
   ]
  },
  {
   "cell_type": "code",
   "execution_count": null,
   "metadata": {},
   "outputs": [],
   "source": [
    "#get continuous and categorical variables\n",
    "with open(jsonfile) as f:\n",
    "    data1 = json.load(f)\n",
    "    res_cont = data1[0]\n",
    "    res_cat = data1[1] \n",
    "   \n",
    "# res_cont\n",
    "# res_cat"
   ]
  },
  {
   "cell_type": "code",
   "execution_count": null,
   "metadata": {},
   "outputs": [],
   "source": [
    "columns_dep_var = trn.columns[0]\n",
    "columns_dep_var"
   ]
  },
  {
   "cell_type": "code",
   "execution_count": null,
   "metadata": {},
   "outputs": [],
   "source": [
    "#remove the dependant variable\n",
    "res_cont = [x for x in res_cont if x not in columns_dep_var]\n",
    "res_cat = [x for x in res_cat if x not in columns_dep_var]"
   ]
  },
  {
   "cell_type": "code",
   "execution_count": null,
   "metadata": {},
   "outputs": [],
   "source": [
    "trn.head()"
   ]
  },
  {
   "cell_type": "code",
   "execution_count": null,
   "metadata": {},
   "outputs": [],
   "source": [
    "#convert trumpgevote to long (otherwise fit fails)\n",
    "trn[columns_dep_var] = trn[columns_dep_var].astype('int64');\n",
    "tst[columns_dep_var] = tst[columns_dep_var].astype('int64');\n",
    "\n",
    "print(str(len(trn)))\n",
    "print(str(len(tst)))"
   ]
  },
  {
   "cell_type": "code",
   "execution_count": null,
   "metadata": {},
   "outputs": [],
   "source": [
    "#split out trn_y and tst_y\n",
    "#this is the dep_var, converted to an int\n",
    "trn_y = trn[columns_dep_var].copy()\n",
    "tst_y = tst[columns_dep_var].copy()\n",
    "trn_y.astype('int64');\n",
    "trn_y.astype('int64');\n",
    "\n",
    "trn.drop(columns_dep_var,axis=1,inplace=True);\n",
    "tst.drop(columns_dep_var,axis=1,inplace=True);"
   ]
  },
  {
   "cell_type": "markdown",
   "metadata": {},
   "source": [
    "## Lets see what features are corelated with each other"
   ]
  },
  {
   "cell_type": "code",
   "execution_count": null,
   "metadata": {},
   "outputs": [],
   "source": [
    "# from rfpimp import plot_corr_heatmap\n",
    "# viz = plot_corr_heatmap(trn, figsize=(50,30))\n",
    "# viz.view()"
   ]
  },
  {
   "cell_type": "markdown",
   "metadata": {},
   "source": [
    "## Categorify and Fill Missing"
   ]
  },
  {
   "cell_type": "code",
   "execution_count": null,
   "metadata": {},
   "outputs": [],
   "source": [
    "#from docs https://docs.fast.ai/tabular.transform.html\n",
    "# tfm = Categorify(cat_names=res_cat, cont_names=res_cont)\n",
    "# tfm(trn)\n",
    "# tfm(tst)\n",
    "# #just checking to see if it works on any old variable\n",
    "# trn[res_cat[0]].cat.categories\n",
    "# tst[res_cat[0]].cat.categories"
   ]
  },
  {
   "cell_type": "code",
   "execution_count": null,
   "metadata": {},
   "outputs": [],
   "source": [
    "tfm1 = FillMissing(cat_names=res_cat, cont_names=res_cont, add_col=False)\n",
    "tfm1(trn)\n",
    "tfm1(tst)"
   ]
  },
  {
   "cell_type": "markdown",
   "metadata": {},
   "source": [
    "## Clean up any missing columns that result from unfortunate test selection"
   ]
  },
  {
   "cell_type": "code",
   "execution_count": null,
   "metadata": {},
   "outputs": [],
   "source": [
    "columns_dep_var"
   ]
  },
  {
   "cell_type": "code",
   "execution_count": null,
   "metadata": {},
   "outputs": [],
   "source": [
    "#You cannot have any Nan (missing data) fields or random forest will not work.\n",
    "print(f\"Total trn columns = {len(trn.columns)}, total tst columns = {len(tst.columns)}\") \n",
    "print(f\"Total trn columns with Nans= {len(trn.columns[trn.isnull().any()])}\") #add ~ to get columns with no missing values\n",
    "print(f\"Total tst columns with Nans= {len(tst.columns[tst.isnull().any()])}\") #add ~ to get columns with no missing values"
   ]
  },
  {
   "cell_type": "code",
   "execution_count": null,
   "metadata": {},
   "outputs": [],
   "source": [
    "#hmmm if either has 1 more column than train then see what it is\n",
    "set(tst.columns)-set(trn.columns)\n",
    "set(trn.columns)-set(tst.columns)\n",
    "\n",
    "#missing one of the _na columns.  This is added, and set to 1, when a variable has an NaN value to mark\n",
    "#columns that have NaNs\n",
    "\n",
    "#find the index of the column in trn\n",
    "# idx=trn.columns.tolist().index('cc.catholic_na')\n",
    "# idx\n",
    "# type(trn.columns)\n",
    "\n",
    "# tst.insert(loc=idx, column='cc.catholic_na', value=False)"
   ]
  },
  {
   "cell_type": "code",
   "execution_count": null,
   "metadata": {},
   "outputs": [],
   "source": [
    "trn.head()"
   ]
  },
  {
   "cell_type": "markdown",
   "metadata": {},
   "source": [
    "## Generate MEM row \n",
    "RUN ON WHOLE DATASET OR JUST THE TestSET?  I'm thinking the whole dataset.  \n",
    "The model has some idea of how voters will vote based on the input features, lets use that knowledge\n",
    "to see what happens when we start changing variables"
   ]
  },
  {
   "cell_type": "code",
   "execution_count": null,
   "metadata": {},
   "outputs": [],
   "source": [
    "all = trn.copy()\n",
    "all_y = trn_y.copy()\n",
    "len(all)\n",
    "all.head()"
   ]
  },
  {
   "cell_type": "markdown",
   "metadata": {},
   "source": [
    "# Generate pValue predictions"
   ]
  },
  {
   "cell_type": "code",
   "execution_count": null,
   "metadata": {},
   "outputs": [],
   "source": [
    "#this directory contains symlink created at command line like this\n",
    "# ln -s ../Marginal_Effects_at_Means ./Marginal_Effects_at_Means\n",
    "#it allows this directory to find Marginal_Effects_at_Means, a directory 1 above this one\n",
    "#this dir contains a file called mem.py which contains MEMs\n",
    "from p_value_calculation.pvals import pValue,pValInfo"
   ]
  },
  {
   "cell_type": "code",
   "execution_count": null,
   "metadata": {},
   "outputs": [],
   "source": [
    "#run the test cases\n",
    "# from p_value_calculation.test_pvals import Test_pvals\n",
    "# tst = Test_pvals()\n",
    "# tst.setUp()\n",
    "# tst.test_get_pval_bin()"
   ]
  },
  {
   "cell_type": "code",
   "execution_count": null,
   "metadata": {},
   "outputs": [],
   "source": [
    "# #get something small to train on\n",
    "# NUMBERSAMPS = 1000\n",
    "# trn_sm = trn[:NUMBERSAMPS]\n",
    "# trn_sm_y= trn_y[:NUMBERSAMPS]\n",
    "# tst_sm = tst[:NUMBERSAMPS]\n",
    "# tst_sm_y = tst[:NUMBERSAMPS]\n",
    "# columns=['cc.raceviewsum']\n",
    "\n",
    "# len(trn_sm),len(trn_sm_y),len(tst_sm) \n",
    "# columns = ['cc.raceviewsum', 'cc.CC16_307']"
   ]
  },
  {
   "cell_type": "code",
   "execution_count": null,
   "metadata": {},
   "outputs": [],
   "source": [
    "columns=all.columns\n",
    "columns\n",
    "# columns1=['cc.emp.nojob']"
   ]
  },
  {
   "cell_type": "code",
   "execution_count": null,
   "metadata": {},
   "outputs": [],
   "source": [
    "NUMBERITERATIONS=500\n",
    "pv=pValue(trn, trn_y,columns,numb_iter=NUMBERITERATIONS, verbose=True)\n",
    "res = pv.get_all_pvals()"
   ]
  },
  {
   "cell_type": "markdown",
   "metadata": {},
   "source": [
    "# Save, print and plot "
   ]
  },
  {
   "cell_type": "code",
   "execution_count": null,
   "metadata": {},
   "outputs": [],
   "source": [
    "outfile ='PVAL_results_'+fn+'.csv'\n",
    "outfile"
   ]
  },
  {
   "cell_type": "code",
   "execution_count": null,
   "metadata": {},
   "outputs": [],
   "source": [
    "# save this info to disk\n",
    "pickle.dump(res, open(outdir+\"/\"+outfile, 'wb'))"
   ]
  },
  {
   "cell_type": "code",
   "execution_count": null,
   "metadata": {},
   "outputs": [],
   "source": [
    "# load the model from disk\n",
    "res = pickle.load(open(outdir+\"/\"+outfile, 'rb'))"
   ]
  },
  {
   "cell_type": "code",
   "execution_count": null,
   "metadata": {},
   "outputs": [],
   "source": [
    "#used to convert old pValInfo objects to new ones with comparisons (lt, eq) and self.pVal\n",
    "# res2=[]\n",
    "# for c in res1:\n",
    "#     a=pValInfo(c.col)\n",
    "#     a.correct_pred = c.correct_pred[:]\n",
    "#     a.permuted_preds = c.permuted_preds[:]\n",
    "#     res2.append(a)"
   ]
  },
  {
   "cell_type": "code",
   "execution_count": null,
   "metadata": {},
   "outputs": [],
   "source": [
    "res=sorted(res)\n",
    "\n",
    "#print values\n",
    "for item in res:\n",
    "    print(f'Column {item.col}, p-value={item.get_pval()}')"
   ]
  },
  {
   "cell_type": "code",
   "execution_count": null,
   "metadata": {},
   "outputs": [],
   "source": [
    "filenamecsv = 'pvals'+fn+ '.csv'"
   ]
  },
  {
   "cell_type": "code",
   "execution_count": null,
   "metadata": {},
   "outputs": [],
   "source": [
    "with open(outdir+\"/\"+filenamecsv, 'w' ) as f:\n",
    "    for item in res:\n",
    "        _=f.write(f'{item.col},{item.get_pval()}\\n');"
   ]
  },
  {
   "cell_type": "code",
   "execution_count": null,
   "metadata": {},
   "outputs": [],
   "source": [
    "def draw_histograms(res, variables, n_rows, n_cols):\n",
    "    fig, ax=plt.subplots(nrows=n_rows,ncols=n_cols, figsize=(15,30) )\n",
    "    fig.subplots_adjust(hspace=.5, wspace=.1)\n",
    "    for i in range(n_rows):\n",
    "        for j in range(n_cols):\n",
    "            try:\n",
    "                tmp = res[((i)*n_cols)+j]\n",
    "            except:\n",
    "                pass   \n",
    "            ax[i,j].set_title(f'{tmp.col}, pval={tmp.get_pval()}')\n",
    "            ax[i,j].hist(tmp.permuted_preds,bins= 50,ec='red', label='permuted')\n",
    "            ax[i,j].axvline(tmp.correct_pred, color='k', linestyle='dashed', linewidth=1, label='not-permuted')\n",
    "    plt.show()"
   ]
  },
  {
   "cell_type": "code",
   "execution_count": null,
   "metadata": {},
   "outputs": [],
   "source": [
    "print (\"--- line is not-permuted calc, others are permuted calcs\")\n",
    "draw_histograms(res, columns, 11,3)"
   ]
  },
  {
   "cell_type": "code",
   "execution_count": null,
   "metadata": {},
   "outputs": [],
   "source": []
  }
 ],
 "metadata": {
  "kernelspec": {
   "display_name": "Python 3",
   "language": "python",
   "name": "python3"
  },
  "toc": {
   "base_numbering": 1,
   "nav_menu": {},
   "number_sections": true,
   "sideBar": true,
   "skip_h1_title": false,
   "title_cell": "Table of Contents",
   "title_sidebar": "Contents",
   "toc_cell": false,
   "toc_position": {
    "height": "calc(100% - 180px)",
    "left": "10px",
    "top": "150px",
    "width": "617px"
   },
   "toc_section_display": true,
   "toc_window_display": true
  },
  "varInspector": {
   "cols": {
    "lenName": 16,
    "lenType": 16,
    "lenVar": 40
   },
   "kernels_config": {
    "python": {
     "delete_cmd_postfix": "",
     "delete_cmd_prefix": "del ",
     "library": "var_list.py",
     "varRefreshCmd": "print(var_dic_list())"
    },
    "r": {
     "delete_cmd_postfix": ") ",
     "delete_cmd_prefix": "rm(",
     "library": "var_list.r",
     "varRefreshCmd": "cat(var_dic_list()) "
    }
   },
   "position": {
    "height": "348px",
    "left": "4px",
    "right": "20px",
    "top": "545px",
    "width": "612px"
   },
   "types_to_exclude": [
    "module",
    "function",
    "builtin_function_or_method",
    "instance",
    "_Feature"
   ],
   "window_display": true
  }
 },
 "nbformat": 4,
 "nbformat_minor": 2
}
