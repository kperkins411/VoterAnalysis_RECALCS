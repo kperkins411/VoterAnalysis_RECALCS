{
 "cells": [
  {
   "cell_type": "markdown",
   "metadata": {},
   "source": [
    "# Introduction\n",
    "Voter Analysis exploration"
   ]
  },
  {
   "cell_type": "markdown",
   "metadata": {},
   "source": [
    "## Imports\n",
    "Import libraries and write settings here."
   ]
  },
  {
   "cell_type": "code",
   "execution_count": 519,
   "metadata": {},
   "outputs": [
    {
     "data": {
      "text/html": [
       "<script type=\"text/javascript\">window.PlotlyConfig = {MathJaxConfig: 'local'};</script><script type=\"text/javascript\">if (window.MathJax) {MathJax.Hub.Config({SVG: {font: \"STIX-Web\"}});}</script><script>requirejs.config({paths: { 'plotly': ['https://cdn.plot.ly/plotly-latest.min']},});if(!window._Plotly) {require(['plotly'],function(plotly) {window._Plotly=plotly;});}</script>"
      ],
      "text/vnd.plotly.v1+html": [
       "<script type=\"text/javascript\">window.PlotlyConfig = {MathJaxConfig: 'local'};</script><script type=\"text/javascript\">if (window.MathJax) {MathJax.Hub.Config({SVG: {font: \"STIX-Web\"}});}</script><script>requirejs.config({paths: { 'plotly': ['https://cdn.plot.ly/plotly-latest.min']},});if(!window._Plotly) {require(['plotly'],function(plotly) {window._Plotly=plotly;});}</script>"
      ]
     },
     "metadata": {},
     "output_type": "display_data"
    },
    {
     "data": {
      "text/html": [
       "<script type=\"text/javascript\">window.PlotlyConfig = {MathJaxConfig: 'local'};</script><script type=\"text/javascript\">if (window.MathJax) {MathJax.Hub.Config({SVG: {font: \"STIX-Web\"}});}</script><script>requirejs.config({paths: { 'plotly': ['https://cdn.plot.ly/plotly-latest.min']},});if(!window._Plotly) {require(['plotly'],function(plotly) {window._Plotly=plotly;});}</script>"
      ],
      "text/vnd.plotly.v1+html": [
       "<script type=\"text/javascript\">window.PlotlyConfig = {MathJaxConfig: 'local'};</script><script type=\"text/javascript\">if (window.MathJax) {MathJax.Hub.Config({SVG: {font: \"STIX-Web\"}});}</script><script>requirejs.config({paths: { 'plotly': ['https://cdn.plot.ly/plotly-latest.min']},});if(!window._Plotly) {require(['plotly'],function(plotly) {window._Plotly=plotly;});}</script>"
      ]
     },
     "metadata": {},
     "output_type": "display_data"
    }
   ],
   "source": [
    "from fastai.tabular import *\n",
    "from fastai import *\n",
    "\n",
    "# Data manipulation\n",
    "import pandas as pd\n",
    "import numpy as np\n",
    "\n",
    "# Options for pandas\n",
    "pd.options.display.max_columns = 60\n",
    "pd.options.display.max_rows = 60\n",
    "\n",
    "# Display all cell outputs\n",
    "from IPython.core.interactiveshell import InteractiveShell\n",
    "InteractiveShell.ast_node_interactivity = 'all'\n",
    "\n",
    "from IPython import get_ipython\n",
    "ipython = get_ipython()\n",
    "\n",
    "# autoreload extension\n",
    "if 'autoreload' not in ipython.extension_manager.loaded:\n",
    "    %load_ext autoreload\n",
    "\n",
    "%autoreload 2\n",
    "\n",
    "# Visualizations\n",
    "import plotly.plotly as py\n",
    "import plotly.graph_objs as go\n",
    "from plotly.offline import iplot, init_notebook_mode\n",
    "init_notebook_mode(connected=True)\n",
    "\n",
    "import cufflinks as cf\n",
    "cf.go_offline(connected=True)\n",
    "cf.set_config_file(theme='white')\n",
    "\n",
    "import seaborn as sns\n"
   ]
  },
  {
   "cell_type": "markdown",
   "metadata": {},
   "source": [
    "# Data Import and Cleaning"
   ]
  },
  {
   "cell_type": "code",
   "execution_count": 520,
   "metadata": {},
   "outputs": [],
   "source": [
    "# first column in each file is the dependent variable, the rest are independant\n",
    "csv_files=['vote12gop','TrumpGEVote','TrumpPVote']\n",
    "\n",
    "whichfle=2\n",
    "fn=csv_files[whichfle]\n",
    "fle = csv_files[whichfle]+'.csv'"
   ]
  },
  {
   "cell_type": "code",
   "execution_count": 521,
   "metadata": {},
   "outputs": [
    {
     "data": {
      "text/plain": [
       "'TrumpPVote.csv'"
      ]
     },
     "execution_count": 521,
     "metadata": {},
     "output_type": "execute_result"
    },
    {
     "data": {
      "text/plain": [
       "'TrumpPVote'"
      ]
     },
     "execution_count": 521,
     "metadata": {},
     "output_type": "execute_result"
    }
   ],
   "source": [
    "fle\n",
    "fn"
   ]
  },
  {
   "cell_type": "code",
   "execution_count": 522,
   "metadata": {},
   "outputs": [],
   "source": [
    "#find the data\n",
    "path = './data/'\n",
    "#original dataset\n",
    "df = pd.read_csv(path+fle,encoding = \"ISO-8859-1\")"
   ]
  },
  {
   "cell_type": "code",
   "execution_count": 523,
   "metadata": {},
   "outputs": [],
   "source": [
    "#get rid of spaces and caps in column names (if any)\n",
    "df.columns = [col.replace(' ','_').lower() for col in df.columns]"
   ]
  },
  {
   "cell_type": "code",
   "execution_count": 524,
   "metadata": {},
   "outputs": [
    {
     "data": {
      "text/plain": [
       "5"
      ]
     },
     "execution_count": 524,
     "metadata": {},
     "output_type": "execute_result"
    }
   ],
   "source": [
    "# df.head()\n",
    "# df.columns\n",
    "# df.describe()\n",
    "\n",
    "#any duplicate rows?\n",
    "df.duplicated().sum()"
   ]
  },
  {
   "cell_type": "code",
   "execution_count": 525,
   "metadata": {},
   "outputs": [
    {
     "data": {
      "text/html": [
       "<div>\n",
       "<style scoped>\n",
       "    .dataframe tbody tr th:only-of-type {\n",
       "        vertical-align: middle;\n",
       "    }\n",
       "\n",
       "    .dataframe tbody tr th {\n",
       "        vertical-align: top;\n",
       "    }\n",
       "\n",
       "    .dataframe thead th {\n",
       "        text-align: right;\n",
       "    }\n",
       "</style>\n",
       "<table border=\"1\" class=\"dataframe\">\n",
       "  <thead>\n",
       "    <tr style=\"text-align: right;\">\n",
       "      <th></th>\n",
       "      <th>cc.trumppvote</th>\n",
       "      <th>cc.age</th>\n",
       "      <th>cc.blackdum</th>\n",
       "      <th>cc.cc16_304</th>\n",
       "      <th>cc.cc16_305_2</th>\n",
       "      <th>cc.cc16_422c</th>\n",
       "      <th>cc.cc16_422d</th>\n",
       "      <th>cc.cc16_422e</th>\n",
       "      <th>cc.cc16_422f</th>\n",
       "      <th>cc.catholic</th>\n",
       "      <th>cc.evanprot</th>\n",
       "      <th>cc.ideo7</th>\n",
       "      <th>cc.inddum</th>\n",
       "      <th>cc.religiosity</th>\n",
       "      <th>cc.repdum</th>\n",
       "      <th>cc.sex</th>\n",
       "      <th>cc.whitedum</th>\n",
       "      <th>cc.emp.nojob</th>\n",
       "      <th>cc.faminc</th>\n",
       "      <th>cc.i.white.educhs</th>\n",
       "      <th>cc.immviewsum</th>\n",
       "      <th>cc.maxeduc.4yr</th>\n",
       "      <th>cc.union</th>\n",
       "      <th>crashpc</th>\n",
       "      <th>demo.popdense</th>\n",
       "      <th>job.uer</th>\n",
       "      <th>mort.ucd.despair.disc95.pdpy</th>\n",
       "      <th>rustpc</th>\n",
       "    </tr>\n",
       "  </thead>\n",
       "  <tbody>\n",
       "    <tr>\n",
       "      <th>0</th>\n",
       "      <td>1</td>\n",
       "      <td>1.536849</td>\n",
       "      <td>0</td>\n",
       "      <td>1.263963</td>\n",
       "      <td>0</td>\n",
       "      <td>1.551223</td>\n",
       "      <td>1.647751</td>\n",
       "      <td>1.636039</td>\n",
       "      <td>0.386066</td>\n",
       "      <td>0</td>\n",
       "      <td>1</td>\n",
       "      <td>1.353232</td>\n",
       "      <td>0</td>\n",
       "      <td>1.538600</td>\n",
       "      <td>1</td>\n",
       "      <td>0</td>\n",
       "      <td>1</td>\n",
       "      <td>0</td>\n",
       "      <td>1.264915</td>\n",
       "      <td>0</td>\n",
       "      <td>1.701138</td>\n",
       "      <td>0</td>\n",
       "      <td>1</td>\n",
       "      <td>1.206765</td>\n",
       "      <td>0.010774</td>\n",
       "      <td>0.862268</td>\n",
       "      <td>0.708396</td>\n",
       "      <td>0.712639</td>\n",
       "    </tr>\n",
       "    <tr>\n",
       "      <th>1</th>\n",
       "      <td>0</td>\n",
       "      <td>0.906347</td>\n",
       "      <td>1</td>\n",
       "      <td>0.947973</td>\n",
       "      <td>0</td>\n",
       "      <td>0.517074</td>\n",
       "      <td>0.329550</td>\n",
       "      <td>1.227029</td>\n",
       "      <td>0.386066</td>\n",
       "      <td>0</td>\n",
       "      <td>0</td>\n",
       "      <td>0.225539</td>\n",
       "      <td>0</td>\n",
       "      <td>0.995565</td>\n",
       "      <td>0</td>\n",
       "      <td>0</td>\n",
       "      <td>0</td>\n",
       "      <td>0</td>\n",
       "      <td>1.264915</td>\n",
       "      <td>0</td>\n",
       "      <td>0.000000</td>\n",
       "      <td>1</td>\n",
       "      <td>1</td>\n",
       "      <td>1.206765</td>\n",
       "      <td>0.010774</td>\n",
       "      <td>0.862268</td>\n",
       "      <td>0.708396</td>\n",
       "      <td>0.712639</td>\n",
       "    </tr>\n",
       "    <tr>\n",
       "      <th>2</th>\n",
       "      <td>0</td>\n",
       "      <td>1.497443</td>\n",
       "      <td>0</td>\n",
       "      <td>1.263963</td>\n",
       "      <td>0</td>\n",
       "      <td>1.034148</td>\n",
       "      <td>1.318201</td>\n",
       "      <td>0.409010</td>\n",
       "      <td>0.386066</td>\n",
       "      <td>0</td>\n",
       "      <td>0</td>\n",
       "      <td>0.902155</td>\n",
       "      <td>1</td>\n",
       "      <td>0.905059</td>\n",
       "      <td>0</td>\n",
       "      <td>1</td>\n",
       "      <td>1</td>\n",
       "      <td>0</td>\n",
       "      <td>1.264915</td>\n",
       "      <td>0</td>\n",
       "      <td>1.701138</td>\n",
       "      <td>0</td>\n",
       "      <td>0</td>\n",
       "      <td>0.545380</td>\n",
       "      <td>0.013913</td>\n",
       "      <td>0.873229</td>\n",
       "      <td>0.923322</td>\n",
       "      <td>0.591826</td>\n",
       "    </tr>\n",
       "    <tr>\n",
       "      <th>3</th>\n",
       "      <td>1</td>\n",
       "      <td>1.339817</td>\n",
       "      <td>0</td>\n",
       "      <td>1.579954</td>\n",
       "      <td>0</td>\n",
       "      <td>1.551223</td>\n",
       "      <td>1.647751</td>\n",
       "      <td>1.227029</td>\n",
       "      <td>0.772133</td>\n",
       "      <td>0</td>\n",
       "      <td>1</td>\n",
       "      <td>1.353232</td>\n",
       "      <td>0</td>\n",
       "      <td>1.267082</td>\n",
       "      <td>1</td>\n",
       "      <td>1</td>\n",
       "      <td>1</td>\n",
       "      <td>0</td>\n",
       "      <td>0.983823</td>\n",
       "      <td>0</td>\n",
       "      <td>1.701138</td>\n",
       "      <td>0</td>\n",
       "      <td>0</td>\n",
       "      <td>0.545380</td>\n",
       "      <td>0.013913</td>\n",
       "      <td>0.873229</td>\n",
       "      <td>0.923322</td>\n",
       "      <td>0.591826</td>\n",
       "    </tr>\n",
       "    <tr>\n",
       "      <th>4</th>\n",
       "      <td>0</td>\n",
       "      <td>1.142785</td>\n",
       "      <td>0</td>\n",
       "      <td>0.315991</td>\n",
       "      <td>0</td>\n",
       "      <td>0.517074</td>\n",
       "      <td>0.329550</td>\n",
       "      <td>0.409010</td>\n",
       "      <td>0.386066</td>\n",
       "      <td>1</td>\n",
       "      <td>0</td>\n",
       "      <td>0.902155</td>\n",
       "      <td>0</td>\n",
       "      <td>0.905059</td>\n",
       "      <td>0</td>\n",
       "      <td>0</td>\n",
       "      <td>1</td>\n",
       "      <td>0</td>\n",
       "      <td>1.827100</td>\n",
       "      <td>0</td>\n",
       "      <td>0.850569</td>\n",
       "      <td>1</td>\n",
       "      <td>0</td>\n",
       "      <td>0.545380</td>\n",
       "      <td>0.013913</td>\n",
       "      <td>0.873229</td>\n",
       "      <td>0.923322</td>\n",
       "      <td>0.591826</td>\n",
       "    </tr>\n",
       "  </tbody>\n",
       "</table>\n",
       "</div>"
      ],
      "text/plain": [
       "   cc.trumppvote    cc.age  cc.blackdum  cc.cc16_304  cc.cc16_305_2  \\\n",
       "0              1  1.536849            0     1.263963              0   \n",
       "1              0  0.906347            1     0.947973              0   \n",
       "2              0  1.497443            0     1.263963              0   \n",
       "3              1  1.339817            0     1.579954              0   \n",
       "4              0  1.142785            0     0.315991              0   \n",
       "\n",
       "   cc.cc16_422c  cc.cc16_422d  cc.cc16_422e  cc.cc16_422f  cc.catholic  \\\n",
       "0      1.551223      1.647751      1.636039      0.386066            0   \n",
       "1      0.517074      0.329550      1.227029      0.386066            0   \n",
       "2      1.034148      1.318201      0.409010      0.386066            0   \n",
       "3      1.551223      1.647751      1.227029      0.772133            0   \n",
       "4      0.517074      0.329550      0.409010      0.386066            1   \n",
       "\n",
       "   cc.evanprot  cc.ideo7  cc.inddum  cc.religiosity  cc.repdum  cc.sex  \\\n",
       "0            1  1.353232          0        1.538600          1       0   \n",
       "1            0  0.225539          0        0.995565          0       0   \n",
       "2            0  0.902155          1        0.905059          0       1   \n",
       "3            1  1.353232          0        1.267082          1       1   \n",
       "4            0  0.902155          0        0.905059          0       0   \n",
       "\n",
       "   cc.whitedum  cc.emp.nojob  cc.faminc  cc.i.white.educhs  cc.immviewsum  \\\n",
       "0            1             0   1.264915                  0       1.701138   \n",
       "1            0             0   1.264915                  0       0.000000   \n",
       "2            1             0   1.264915                  0       1.701138   \n",
       "3            1             0   0.983823                  0       1.701138   \n",
       "4            1             0   1.827100                  0       0.850569   \n",
       "\n",
       "   cc.maxeduc.4yr  cc.union   crashpc  demo.popdense   job.uer  \\\n",
       "0               0         1  1.206765       0.010774  0.862268   \n",
       "1               1         1  1.206765       0.010774  0.862268   \n",
       "2               0         0  0.545380       0.013913  0.873229   \n",
       "3               0         0  0.545380       0.013913  0.873229   \n",
       "4               1         0  0.545380       0.013913  0.873229   \n",
       "\n",
       "   mort.ucd.despair.disc95.pdpy    rustpc  \n",
       "0                      0.708396  0.712639  \n",
       "1                      0.708396  0.712639  \n",
       "2                      0.923322  0.591826  \n",
       "3                      0.923322  0.591826  \n",
       "4                      0.923322  0.591826  "
      ]
     },
     "execution_count": 525,
     "metadata": {},
     "output_type": "execute_result"
    },
    {
     "data": {
      "text/plain": [
       "27463"
      ]
     },
     "execution_count": 525,
     "metadata": {},
     "output_type": "execute_result"
    }
   ],
   "source": [
    "df.head()\n",
    "len(df)"
   ]
  },
  {
   "cell_type": "code",
   "execution_count": 526,
   "metadata": {},
   "outputs": [
    {
     "name": "stdout",
     "output_type": "stream",
     "text": [
      "Total columns=28\n",
      "Total columns with no Nans= 28\n",
      "Total columns with Nans= 0\n"
     ]
    }
   ],
   "source": [
    "#lets see how many columns, how many have no and some missing values\n",
    "print (f\"Total columns={len(df.columns)}\")\n",
    "print(f\"Total columns with no Nans= {len(df.columns[~df.isnull().any()])}\") \n",
    "print(f\"Total columns with Nans= {len(df.columns[df.isnull().any()])}\") #add ~ to get columns with no missing values\n",
    "\n",
    "#old values\n",
    "# Total columns=866\n",
    "# Total columns with no Nans= 268\n",
    "# Total columns with Nans= 598\n"
   ]
  },
  {
   "cell_type": "markdown",
   "metadata": {},
   "source": [
    "The columns with no NaNs (missing values) are the easiest to use since we dont have to impute missing values"
   ]
  },
  {
   "cell_type": "markdown",
   "metadata": {},
   "source": [
    "## Get a subset of the rows of the data to work on if desired"
   ]
  },
  {
   "cell_type": "code",
   "execution_count": 527,
   "metadata": {},
   "outputs": [],
   "source": [
    "#get first thousand rows\n",
    "# df=df[:1000]"
   ]
  },
  {
   "cell_type": "markdown",
   "metadata": {},
   "source": [
    "## Get the columns of interest"
   ]
  },
  {
   "cell_type": "code",
   "execution_count": 528,
   "metadata": {},
   "outputs": [],
   "source": [
    "#get all the columns in df, the first is independant var, the rest are dependant\n",
    "columns = list(df.columns.values)\n",
    "\n",
    "#get the dependant variable(s)\n",
    "# columns_dep_var= ['cc.TrumpGEVote','cc.TrumpPVote', 'cc.vote12.gop']\n",
    "columns_dep_var= columns[0]\n",
    "\n",
    "#combine\n",
    "# columns.extend(columns_dep_var)\n",
    "\n",
    "#strip rubbish\n",
    "columns = [col.replace(' ','_').lower() for col in columns]"
   ]
  },
  {
   "cell_type": "code",
   "execution_count": 529,
   "metadata": {},
   "outputs": [
    {
     "data": {
      "text/plain": [
       "'cc.trumppvote'"
      ]
     },
     "execution_count": 529,
     "metadata": {},
     "output_type": "execute_result"
    }
   ],
   "source": [
    "columns_dep_var"
   ]
  },
  {
   "cell_type": "markdown",
   "metadata": {},
   "source": [
    "## Create dataframe for model training"
   ]
  },
  {
   "cell_type": "code",
   "execution_count": 530,
   "metadata": {},
   "outputs": [],
   "source": [
    "#select out the columns of interest\n",
    "df_s=df[columns]"
   ]
  },
  {
   "cell_type": "code",
   "execution_count": null,
   "metadata": {},
   "outputs": [],
   "source": []
  },
  {
   "cell_type": "code",
   "execution_count": 531,
   "metadata": {},
   "outputs": [
    {
     "data": {
      "text/plain": [
       "28"
      ]
     },
     "execution_count": 531,
     "metadata": {},
     "output_type": "execute_result"
    }
   ],
   "source": [
    "len(df_s.iloc[0])"
   ]
  },
  {
   "cell_type": "markdown",
   "metadata": {},
   "source": [
    "### Output some info"
   ]
  },
  {
   "cell_type": "code",
   "execution_count": 532,
   "metadata": {},
   "outputs": [
    {
     "name": "stdout",
     "output_type": "stream",
     "text": [
      "cc.trumppvote:2\n",
      "cc.age:77\n",
      "cc.blackdum:2\n",
      "cc.cc16_304:5\n",
      "cc.cc16_305_2:2\n",
      "cc.cc16_422c:5\n",
      "cc.cc16_422d:5\n",
      "cc.cc16_422e:5\n",
      "cc.cc16_422f:5\n",
      "cc.catholic:2\n",
      "cc.evanprot:2\n",
      "cc.ideo7:7\n",
      "cc.inddum:2\n",
      "cc.religiosity:15\n",
      "cc.repdum:2\n",
      "cc.sex:2\n",
      "cc.whitedum:2\n",
      "cc.emp.nojob:2\n",
      "cc.faminc:16\n",
      "cc.i.white.educhs:2\n",
      "cc.immviewsum:5\n",
      "cc.maxeduc.4yr:2\n",
      "cc.union:2\n",
      "crashpc:2192\n",
      "demo.popdense:2192\n",
      "job.uer:695\n",
      "mort.ucd.despair.disc95.pdpy:2192\n",
      "rustpc:2037\n"
     ]
    }
   ],
   "source": [
    "# how many unique values there are per column, \n",
    "# use that to guide which columns are categorical and which are continuous\n",
    "#pick largest value that looks continuous, for instance raceviewsum=17 \n",
    "#(but see the docs many of theses fields are floats which meand fastai ignores cardinality)\n",
    "for col in df_s.columns:\n",
    "    print(f\"{col}:{df[col].nunique()}\")"
   ]
  },
  {
   "cell_type": "code",
   "execution_count": 533,
   "metadata": {},
   "outputs": [
    {
     "data": {
      "text/plain": [
       "cc.trumppvote                     int64\n",
       "cc.age                          float64\n",
       "cc.blackdum                       int64\n",
       "cc.cc16_304                     float64\n",
       "cc.cc16_305_2                     int64\n",
       "cc.cc16_422c                    float64\n",
       "cc.cc16_422d                    float64\n",
       "cc.cc16_422e                    float64\n",
       "cc.cc16_422f                    float64\n",
       "cc.catholic                       int64\n",
       "cc.evanprot                       int64\n",
       "cc.ideo7                        float64\n",
       "cc.inddum                         int64\n",
       "cc.religiosity                  float64\n",
       "cc.repdum                         int64\n",
       "cc.sex                            int64\n",
       "cc.whitedum                       int64\n",
       "cc.emp.nojob                      int64\n",
       "cc.faminc                       float64\n",
       "cc.i.white.educhs                 int64\n",
       "cc.immviewsum                   float64\n",
       "cc.maxeduc.4yr                    int64\n",
       "cc.union                          int64\n",
       "crashpc                         float64\n",
       "demo.popdense                   float64\n",
       "job.uer                         float64\n",
       "mort.ucd.despair.disc95.pdpy    float64\n",
       "rustpc                          float64\n",
       "dtype: object"
      ]
     },
     "execution_count": 533,
     "metadata": {},
     "output_type": "execute_result"
    }
   ],
   "source": [
    "#what types are the columns\n",
    "df_s.dtypes"
   ]
  },
  {
   "cell_type": "code",
   "execution_count": 534,
   "metadata": {},
   "outputs": [
    {
     "data": {
      "text/plain": [
       "cc.trumppvote                   0.0\n",
       "job.uer                         0.0\n",
       "demo.popdense                   0.0\n",
       "crashpc                         0.0\n",
       "cc.union                        0.0\n",
       "cc.maxeduc.4yr                  0.0\n",
       "cc.immviewsum                   0.0\n",
       "cc.i.white.educhs               0.0\n",
       "cc.faminc                       0.0\n",
       "cc.emp.nojob                    0.0\n",
       "cc.whitedum                     0.0\n",
       "cc.sex                          0.0\n",
       "cc.repdum                       0.0\n",
       "cc.religiosity                  0.0\n",
       "cc.inddum                       0.0\n",
       "cc.ideo7                        0.0\n",
       "cc.evanprot                     0.0\n",
       "cc.catholic                     0.0\n",
       "cc.cc16_422f                    0.0\n",
       "cc.cc16_422e                    0.0\n",
       "cc.cc16_422d                    0.0\n",
       "cc.cc16_422c                    0.0\n",
       "cc.cc16_305_2                   0.0\n",
       "cc.cc16_304                     0.0\n",
       "cc.blackdum                     0.0\n",
       "cc.age                          0.0\n",
       "mort.ucd.despair.disc95.pdpy    0.0\n",
       "rustpc                          0.0\n",
       "dtype: float64"
      ]
     },
     "execution_count": 534,
     "metadata": {},
     "output_type": "execute_result"
    }
   ],
   "source": [
    "#the percentage of NaNs in each column, note the large percentage of missing values in the bottom columns\n",
    "#I would guess that cc.faminc and cc.raceviewsum are critical\n",
    "df_s.isna().sum().sort_values(ascending = True)/len(df)"
   ]
  },
  {
   "cell_type": "code",
   "execution_count": 535,
   "metadata": {},
   "outputs": [
    {
     "data": {
      "text/plain": [
       "array([1, 0])"
      ]
     },
     "execution_count": 535,
     "metadata": {},
     "output_type": "execute_result"
    }
   ],
   "source": [
    "#BUMMER! the dependant variable has a lot of missing values (36.7%)\n",
    "df_s[columns_dep_var].unique()"
   ]
  },
  {
   "cell_type": "markdown",
   "metadata": {},
   "source": [
    "## Remove NaN dependent variable rows\n",
    "whaddaya going to do?  You have no way of knowing how these people voted"
   ]
  },
  {
   "cell_type": "code",
   "execution_count": 536,
   "metadata": {},
   "outputs": [
    {
     "name": "stdout",
     "output_type": "stream",
     "text": [
      "There are 27463 rows in df_s\n"
     ]
    }
   ],
   "source": [
    "print(f\"There are {len(df_s)} rows in df_s\")"
   ]
  },
  {
   "cell_type": "code",
   "execution_count": 537,
   "metadata": {},
   "outputs": [],
   "source": [
    "#dump the NaN rows\n",
    "df_s = df_s[pd.notnull(df_s[columns_dep_var] )]"
   ]
  },
  {
   "cell_type": "code",
   "execution_count": 538,
   "metadata": {},
   "outputs": [],
   "source": [
    "#convert trumpgevote to long (otherwise fit fails)\n",
    "df_s[columns_dep_var] = df_s[columns_dep_var].astype('int64');"
   ]
  },
  {
   "cell_type": "code",
   "execution_count": 539,
   "metadata": {},
   "outputs": [],
   "source": [
    "#causes nan for learner\n",
    "# df_s['cc.trumpgevote'] = df_s['cc.trumpgevote'].astype('category');\n",
    "# df_s['cc.trumpgevote'].cat.categories"
   ]
  },
  {
   "cell_type": "code",
   "execution_count": 540,
   "metadata": {},
   "outputs": [
    {
     "data": {
      "text/plain": [
       "21691"
      ]
     },
     "execution_count": 540,
     "metadata": {},
     "output_type": "execute_result"
    },
    {
     "data": {
      "text/plain": [
       "5772"
      ]
     },
     "execution_count": 540,
     "metadata": {},
     "output_type": "execute_result"
    }
   ],
   "source": [
    "#is the dataset balanced?\n",
    "df_vc= df_s[columns_dep_var].value_counts()\n",
    "df_vc[0]\n",
    "df_vc[1]"
   ]
  },
  {
   "cell_type": "code",
   "execution_count": 541,
   "metadata": {},
   "outputs": [
    {
     "name": "stdout",
     "output_type": "stream",
     "text": [
      "total percentage of people who voted for trump in this datasets=78.982631176492\n"
     ]
    }
   ],
   "source": [
    "#how about as percentages\n",
    "print(f\"total percentage of people who voted for trump in this datasets={100*df_vc[0]/(df_vc[0]+df_vc[1])}\")"
   ]
  },
  {
   "cell_type": "code",
   "execution_count": 542,
   "metadata": {},
   "outputs": [
    {
     "data": {
      "text/plain": [
       "<matplotlib.axes._subplots.AxesSubplot at 0x7fa03c9b7be0>"
      ]
     },
     "execution_count": 542,
     "metadata": {},
     "output_type": "execute_result"
    },
    {
     "data": {
      "image/png": "[encoded data removed]",
      "text/plain": [
       "<Figure size 504x288 with 1 Axes>"
      ]
     },
     "metadata": {
      "needs_background": "light"
     },
     "output_type": "display_data"
    }
   ],
   "source": [
    "#lets see that as a graph\n",
    "fig, ax = plt.subplots(figsize=(7, 4))\n",
    "sns.countplot(x=columns_dep_var, data=df_s, palette='hls')"
   ]
  },
  {
   "cell_type": "markdown",
   "metadata": {},
   "source": [
    "## Split out categorical and continuous variables\n",
    "see if fastai can auto do it"
   ]
  },
  {
   "cell_type": "code",
   "execution_count": 543,
   "metadata": {
    "scrolled": true
   },
   "outputs": [],
   "source": [
    "#give fastai a shot at splitting cat and cont variables\n",
    "res_cont, res_cat = cont_cat_split(df_s,max_card=18)"
   ]
  },
  {
   "cell_type": "code",
   "execution_count": 544,
   "metadata": {},
   "outputs": [],
   "source": [
    "# ??cont_cat_split"
   ]
  },
  {
   "cell_type": "code",
   "execution_count": 545,
   "metadata": {},
   "outputs": [
    {
     "name": "stdout",
     "output_type": "stream",
     "text": [
      "['cc.age', 'cc.cc16_304', 'cc.cc16_422c', 'cc.cc16_422d', 'cc.cc16_422e', 'cc.cc16_422f', 'cc.ideo7', 'cc.religiosity', 'cc.faminc', 'cc.immviewsum', 'crashpc', 'demo.popdense', 'job.uer', 'mort.ucd.despair.disc95.pdpy', 'rustpc']\n",
      "['cc.trumppvote', 'cc.blackdum', 'cc.cc16_305_2', 'cc.catholic', 'cc.evanprot', 'cc.inddum', 'cc.repdum', 'cc.sex', 'cc.whitedum', 'cc.emp.nojob', 'cc.i.white.educhs', 'cc.maxeduc.4yr', 'cc.union']\n"
     ]
    }
   ],
   "source": [
    "print(res_cont)\n",
    "print(res_cat)"
   ]
  },
  {
   "cell_type": "code",
   "execution_count": 546,
   "metadata": {},
   "outputs": [
    {
     "data": {
      "text/plain": [
       "'cc.trumppvote'"
      ]
     },
     "execution_count": 546,
     "metadata": {},
     "output_type": "execute_result"
    }
   ],
   "source": [
    "columns_dep_var"
   ]
  },
  {
   "cell_type": "code",
   "execution_count": 547,
   "metadata": {},
   "outputs": [],
   "source": [
    "#remove the dependant variable\n",
    "res_cont = [x for x in res_cont if x not in columns_dep_var]\n",
    "res_cat = [x for x in res_cat if x not in columns_dep_var]"
   ]
  },
  {
   "cell_type": "code",
   "execution_count": 548,
   "metadata": {},
   "outputs": [
    {
     "data": {
      "text/html": [
       "<div>\n",
       "<style scoped>\n",
       "    .dataframe tbody tr th:only-of-type {\n",
       "        vertical-align: middle;\n",
       "    }\n",
       "\n",
       "    .dataframe tbody tr th {\n",
       "        vertical-align: top;\n",
       "    }\n",
       "\n",
       "    .dataframe thead th {\n",
       "        text-align: right;\n",
       "    }\n",
       "</style>\n",
       "<table border=\"1\" class=\"dataframe\">\n",
       "  <thead>\n",
       "    <tr style=\"text-align: right;\">\n",
       "      <th></th>\n",
       "      <th>cc.trumppvote</th>\n",
       "      <th>cc.age</th>\n",
       "      <th>cc.blackdum</th>\n",
       "      <th>cc.cc16_304</th>\n",
       "      <th>cc.cc16_305_2</th>\n",
       "      <th>cc.cc16_422c</th>\n",
       "      <th>cc.cc16_422d</th>\n",
       "      <th>cc.cc16_422e</th>\n",
       "      <th>cc.cc16_422f</th>\n",
       "      <th>cc.catholic</th>\n",
       "      <th>cc.evanprot</th>\n",
       "      <th>cc.ideo7</th>\n",
       "      <th>cc.inddum</th>\n",
       "      <th>cc.religiosity</th>\n",
       "      <th>cc.repdum</th>\n",
       "      <th>cc.sex</th>\n",
       "      <th>cc.whitedum</th>\n",
       "      <th>cc.emp.nojob</th>\n",
       "      <th>cc.faminc</th>\n",
       "      <th>cc.i.white.educhs</th>\n",
       "      <th>cc.immviewsum</th>\n",
       "      <th>cc.maxeduc.4yr</th>\n",
       "      <th>cc.union</th>\n",
       "      <th>crashpc</th>\n",
       "      <th>demo.popdense</th>\n",
       "      <th>job.uer</th>\n",
       "      <th>mort.ucd.despair.disc95.pdpy</th>\n",
       "      <th>rustpc</th>\n",
       "    </tr>\n",
       "  </thead>\n",
       "  <tbody>\n",
       "    <tr>\n",
       "      <th>0</th>\n",
       "      <td>1</td>\n",
       "      <td>1.536849</td>\n",
       "      <td>0</td>\n",
       "      <td>1.263963</td>\n",
       "      <td>0</td>\n",
       "      <td>1.551223</td>\n",
       "      <td>1.647751</td>\n",
       "      <td>1.636039</td>\n",
       "      <td>0.386066</td>\n",
       "      <td>0</td>\n",
       "      <td>1</td>\n",
       "      <td>1.353232</td>\n",
       "      <td>0</td>\n",
       "      <td>1.538600</td>\n",
       "      <td>1</td>\n",
       "      <td>0</td>\n",
       "      <td>1</td>\n",
       "      <td>0</td>\n",
       "      <td>1.264915</td>\n",
       "      <td>0</td>\n",
       "      <td>1.701138</td>\n",
       "      <td>0</td>\n",
       "      <td>1</td>\n",
       "      <td>1.206765</td>\n",
       "      <td>0.010774</td>\n",
       "      <td>0.862268</td>\n",
       "      <td>0.708396</td>\n",
       "      <td>0.712639</td>\n",
       "    </tr>\n",
       "    <tr>\n",
       "      <th>1</th>\n",
       "      <td>0</td>\n",
       "      <td>0.906347</td>\n",
       "      <td>1</td>\n",
       "      <td>0.947973</td>\n",
       "      <td>0</td>\n",
       "      <td>0.517074</td>\n",
       "      <td>0.329550</td>\n",
       "      <td>1.227029</td>\n",
       "      <td>0.386066</td>\n",
       "      <td>0</td>\n",
       "      <td>0</td>\n",
       "      <td>0.225539</td>\n",
       "      <td>0</td>\n",
       "      <td>0.995565</td>\n",
       "      <td>0</td>\n",
       "      <td>0</td>\n",
       "      <td>0</td>\n",
       "      <td>0</td>\n",
       "      <td>1.264915</td>\n",
       "      <td>0</td>\n",
       "      <td>0.000000</td>\n",
       "      <td>1</td>\n",
       "      <td>1</td>\n",
       "      <td>1.206765</td>\n",
       "      <td>0.010774</td>\n",
       "      <td>0.862268</td>\n",
       "      <td>0.708396</td>\n",
       "      <td>0.712639</td>\n",
       "    </tr>\n",
       "    <tr>\n",
       "      <th>2</th>\n",
       "      <td>0</td>\n",
       "      <td>1.497443</td>\n",
       "      <td>0</td>\n",
       "      <td>1.263963</td>\n",
       "      <td>0</td>\n",
       "      <td>1.034148</td>\n",
       "      <td>1.318201</td>\n",
       "      <td>0.409010</td>\n",
       "      <td>0.386066</td>\n",
       "      <td>0</td>\n",
       "      <td>0</td>\n",
       "      <td>0.902155</td>\n",
       "      <td>1</td>\n",
       "      <td>0.905059</td>\n",
       "      <td>0</td>\n",
       "      <td>1</td>\n",
       "      <td>1</td>\n",
       "      <td>0</td>\n",
       "      <td>1.264915</td>\n",
       "      <td>0</td>\n",
       "      <td>1.701138</td>\n",
       "      <td>0</td>\n",
       "      <td>0</td>\n",
       "      <td>0.545380</td>\n",
       "      <td>0.013913</td>\n",
       "      <td>0.873229</td>\n",
       "      <td>0.923322</td>\n",
       "      <td>0.591826</td>\n",
       "    </tr>\n",
       "    <tr>\n",
       "      <th>3</th>\n",
       "      <td>1</td>\n",
       "      <td>1.339817</td>\n",
       "      <td>0</td>\n",
       "      <td>1.579954</td>\n",
       "      <td>0</td>\n",
       "      <td>1.551223</td>\n",
       "      <td>1.647751</td>\n",
       "      <td>1.227029</td>\n",
       "      <td>0.772133</td>\n",
       "      <td>0</td>\n",
       "      <td>1</td>\n",
       "      <td>1.353232</td>\n",
       "      <td>0</td>\n",
       "      <td>1.267082</td>\n",
       "      <td>1</td>\n",
       "      <td>1</td>\n",
       "      <td>1</td>\n",
       "      <td>0</td>\n",
       "      <td>0.983823</td>\n",
       "      <td>0</td>\n",
       "      <td>1.701138</td>\n",
       "      <td>0</td>\n",
       "      <td>0</td>\n",
       "      <td>0.545380</td>\n",
       "      <td>0.013913</td>\n",
       "      <td>0.873229</td>\n",
       "      <td>0.923322</td>\n",
       "      <td>0.591826</td>\n",
       "    </tr>\n",
       "    <tr>\n",
       "      <th>4</th>\n",
       "      <td>0</td>\n",
       "      <td>1.142785</td>\n",
       "      <td>0</td>\n",
       "      <td>0.315991</td>\n",
       "      <td>0</td>\n",
       "      <td>0.517074</td>\n",
       "      <td>0.329550</td>\n",
       "      <td>0.409010</td>\n",
       "      <td>0.386066</td>\n",
       "      <td>1</td>\n",
       "      <td>0</td>\n",
       "      <td>0.902155</td>\n",
       "      <td>0</td>\n",
       "      <td>0.905059</td>\n",
       "      <td>0</td>\n",
       "      <td>0</td>\n",
       "      <td>1</td>\n",
       "      <td>0</td>\n",
       "      <td>1.827100</td>\n",
       "      <td>0</td>\n",
       "      <td>0.850569</td>\n",
       "      <td>1</td>\n",
       "      <td>0</td>\n",
       "      <td>0.545380</td>\n",
       "      <td>0.013913</td>\n",
       "      <td>0.873229</td>\n",
       "      <td>0.923322</td>\n",
       "      <td>0.591826</td>\n",
       "    </tr>\n",
       "  </tbody>\n",
       "</table>\n",
       "</div>"
      ],
      "text/plain": [
       "   cc.trumppvote    cc.age  cc.blackdum  cc.cc16_304  cc.cc16_305_2  \\\n",
       "0              1  1.536849            0     1.263963              0   \n",
       "1              0  0.906347            1     0.947973              0   \n",
       "2              0  1.497443            0     1.263963              0   \n",
       "3              1  1.339817            0     1.579954              0   \n",
       "4              0  1.142785            0     0.315991              0   \n",
       "\n",
       "   cc.cc16_422c  cc.cc16_422d  cc.cc16_422e  cc.cc16_422f  cc.catholic  \\\n",
       "0      1.551223      1.647751      1.636039      0.386066            0   \n",
       "1      0.517074      0.329550      1.227029      0.386066            0   \n",
       "2      1.034148      1.318201      0.409010      0.386066            0   \n",
       "3      1.551223      1.647751      1.227029      0.772133            0   \n",
       "4      0.517074      0.329550      0.409010      0.386066            1   \n",
       "\n",
       "   cc.evanprot  cc.ideo7  cc.inddum  cc.religiosity  cc.repdum  cc.sex  \\\n",
       "0            1  1.353232          0        1.538600          1       0   \n",
       "1            0  0.225539          0        0.995565          0       0   \n",
       "2            0  0.902155          1        0.905059          0       1   \n",
       "3            1  1.353232          0        1.267082          1       1   \n",
       "4            0  0.902155          0        0.905059          0       0   \n",
       "\n",
       "   cc.whitedum  cc.emp.nojob  cc.faminc  cc.i.white.educhs  cc.immviewsum  \\\n",
       "0            1             0   1.264915                  0       1.701138   \n",
       "1            0             0   1.264915                  0       0.000000   \n",
       "2            1             0   1.264915                  0       1.701138   \n",
       "3            1             0   0.983823                  0       1.701138   \n",
       "4            1             0   1.827100                  0       0.850569   \n",
       "\n",
       "   cc.maxeduc.4yr  cc.union   crashpc  demo.popdense   job.uer  \\\n",
       "0               0         1  1.206765       0.010774  0.862268   \n",
       "1               1         1  1.206765       0.010774  0.862268   \n",
       "2               0         0  0.545380       0.013913  0.873229   \n",
       "3               0         0  0.545380       0.013913  0.873229   \n",
       "4               1         0  0.545380       0.013913  0.873229   \n",
       "\n",
       "   mort.ucd.despair.disc95.pdpy    rustpc  \n",
       "0                      0.708396  0.712639  \n",
       "1                      0.708396  0.712639  \n",
       "2                      0.923322  0.591826  \n",
       "3                      0.923322  0.591826  \n",
       "4                      0.923322  0.591826  "
      ]
     },
     "execution_count": 548,
     "metadata": {},
     "output_type": "execute_result"
    },
    {
     "data": {
      "text/plain": [
       "27463"
      ]
     },
     "execution_count": 548,
     "metadata": {},
     "output_type": "execute_result"
    }
   ],
   "source": [
    "df_s.head()\n",
    "len(df_s)"
   ]
  },
  {
   "cell_type": "code",
   "execution_count": 549,
   "metadata": {},
   "outputs": [
    {
     "data": {
      "image/png": "[encoded data removed]",
      "text/plain": [
       "<Figure size 864x648 with 2 Axes>"
      ]
     },
     "metadata": {
      "needs_background": "light"
     },
     "output_type": "display_data"
    }
   ],
   "source": [
    "#correlation matrix\n",
    "corrmat = df_s.corr(method='pearson')\n",
    "f, ax = plt.subplots(figsize=(12, 9))\n",
    "sns.heatmap(corrmat, vmax=.8, square=True);\n",
    "\n",
    "#there is a lot of correlation here,the darks and the lights"
   ]
  },
  {
   "cell_type": "markdown",
   "metadata": {},
   "source": [
    "## Split out train/test sets for consistency\n",
    "Neural Nets, Random Forest, etc will use same sets, so result differnces cannot be attributed to different splits"
   ]
  },
  {
   "cell_type": "code",
   "execution_count": 550,
   "metadata": {},
   "outputs": [
    {
     "name": "stdout",
     "output_type": "stream",
     "text": [
      "24716\n",
      "2747\n"
     ]
    }
   ],
   "source": [
    "# split out train/test sets\n",
    "from sklearn.model_selection import train_test_split\n",
    "\n",
    "train,tst = train_test_split(df_s, test_size=0.1)\n",
    "print(str(len(train)))\n",
    "print(str(len(tst)))"
   ]
  },
  {
   "cell_type": "markdown",
   "metadata": {},
   "source": [
    "# Save train/test and catagorical and continuous column names"
   ]
  },
  {
   "cell_type": "code",
   "execution_count": 551,
   "metadata": {},
   "outputs": [],
   "source": [
    "os.makedirs('tmp', exist_ok=True)\n",
    "\n",
    "train.reset_index(inplace=True)\n",
    "train.to_feather('tmp/' + fn +'_train')\n",
    "\n",
    "tst.reset_index(inplace=True)\n",
    "tst.to_feather('tmp/' + fn +'_tst')"
   ]
  },
  {
   "cell_type": "code",
   "execution_count": 552,
   "metadata": {},
   "outputs": [
    {
     "data": {
      "text/html": [
       "<div>\n",
       "<style scoped>\n",
       "    .dataframe tbody tr th:only-of-type {\n",
       "        vertical-align: middle;\n",
       "    }\n",
       "\n",
       "    .dataframe tbody tr th {\n",
       "        vertical-align: top;\n",
       "    }\n",
       "\n",
       "    .dataframe thead th {\n",
       "        text-align: right;\n",
       "    }\n",
       "</style>\n",
       "<table border=\"1\" class=\"dataframe\">\n",
       "  <thead>\n",
       "    <tr style=\"text-align: right;\">\n",
       "      <th></th>\n",
       "      <th>index</th>\n",
       "      <th>cc.trumppvote</th>\n",
       "      <th>cc.age</th>\n",
       "      <th>cc.blackdum</th>\n",
       "      <th>cc.cc16_304</th>\n",
       "      <th>cc.cc16_305_2</th>\n",
       "      <th>cc.cc16_422c</th>\n",
       "      <th>cc.cc16_422d</th>\n",
       "      <th>cc.cc16_422e</th>\n",
       "      <th>cc.cc16_422f</th>\n",
       "      <th>cc.catholic</th>\n",
       "      <th>cc.evanprot</th>\n",
       "      <th>cc.ideo7</th>\n",
       "      <th>cc.inddum</th>\n",
       "      <th>cc.religiosity</th>\n",
       "      <th>cc.repdum</th>\n",
       "      <th>cc.sex</th>\n",
       "      <th>cc.whitedum</th>\n",
       "      <th>cc.emp.nojob</th>\n",
       "      <th>cc.faminc</th>\n",
       "      <th>cc.i.white.educhs</th>\n",
       "      <th>cc.immviewsum</th>\n",
       "      <th>cc.maxeduc.4yr</th>\n",
       "      <th>cc.union</th>\n",
       "      <th>crashpc</th>\n",
       "      <th>demo.popdense</th>\n",
       "      <th>job.uer</th>\n",
       "      <th>mort.ucd.despair.disc95.pdpy</th>\n",
       "      <th>rustpc</th>\n",
       "    </tr>\n",
       "  </thead>\n",
       "  <tbody>\n",
       "    <tr>\n",
       "      <th>0</th>\n",
       "      <td>18352</td>\n",
       "      <td>0</td>\n",
       "      <td>0.709315</td>\n",
       "      <td>0</td>\n",
       "      <td>0.631982</td>\n",
       "      <td>0</td>\n",
       "      <td>1.551223</td>\n",
       "      <td>0.329550</td>\n",
       "      <td>1.636039</td>\n",
       "      <td>0.386066</td>\n",
       "      <td>0</td>\n",
       "      <td>0</td>\n",
       "      <td>0.451077</td>\n",
       "      <td>0</td>\n",
       "      <td>0.362024</td>\n",
       "      <td>0</td>\n",
       "      <td>1</td>\n",
       "      <td>1</td>\n",
       "      <td>0</td>\n",
       "      <td>0.562184</td>\n",
       "      <td>1</td>\n",
       "      <td>0.000000</td>\n",
       "      <td>0</td>\n",
       "      <td>0</td>\n",
       "      <td>0.981322</td>\n",
       "      <td>0.015040</td>\n",
       "      <td>1.238597</td>\n",
       "      <td>0.918803</td>\n",
       "      <td>0.458212</td>\n",
       "    </tr>\n",
       "    <tr>\n",
       "      <th>1</th>\n",
       "      <td>21304</td>\n",
       "      <td>0</td>\n",
       "      <td>0.788128</td>\n",
       "      <td>0</td>\n",
       "      <td>0.947973</td>\n",
       "      <td>0</td>\n",
       "      <td>0.517074</td>\n",
       "      <td>0.659101</td>\n",
       "      <td>1.227029</td>\n",
       "      <td>0.772133</td>\n",
       "      <td>0</td>\n",
       "      <td>0</td>\n",
       "      <td>0.902155</td>\n",
       "      <td>1</td>\n",
       "      <td>0.452529</td>\n",
       "      <td>0</td>\n",
       "      <td>1</td>\n",
       "      <td>1</td>\n",
       "      <td>0</td>\n",
       "      <td>1.264915</td>\n",
       "      <td>0</td>\n",
       "      <td>0.000000</td>\n",
       "      <td>1</td>\n",
       "      <td>0</td>\n",
       "      <td>0.696811</td>\n",
       "      <td>0.064986</td>\n",
       "      <td>0.706987</td>\n",
       "      <td>0.600396</td>\n",
       "      <td>1.260658</td>\n",
       "    </tr>\n",
       "    <tr>\n",
       "      <th>2</th>\n",
       "      <td>17224</td>\n",
       "      <td>0</td>\n",
       "      <td>1.103379</td>\n",
       "      <td>0</td>\n",
       "      <td>0.947973</td>\n",
       "      <td>0</td>\n",
       "      <td>0.517074</td>\n",
       "      <td>0.659101</td>\n",
       "      <td>0.409010</td>\n",
       "      <td>0.386066</td>\n",
       "      <td>1</td>\n",
       "      <td>0</td>\n",
       "      <td>0.225539</td>\n",
       "      <td>0</td>\n",
       "      <td>0.814553</td>\n",
       "      <td>0</td>\n",
       "      <td>1</td>\n",
       "      <td>1</td>\n",
       "      <td>0</td>\n",
       "      <td>0.702731</td>\n",
       "      <td>0</td>\n",
       "      <td>0.000000</td>\n",
       "      <td>1</td>\n",
       "      <td>1</td>\n",
       "      <td>0.357314</td>\n",
       "      <td>0.191659</td>\n",
       "      <td>0.738043</td>\n",
       "      <td>0.859472</td>\n",
       "      <td>0.462104</td>\n",
       "    </tr>\n",
       "    <tr>\n",
       "      <th>3</th>\n",
       "      <td>27346</td>\n",
       "      <td>0</td>\n",
       "      <td>1.320114</td>\n",
       "      <td>0</td>\n",
       "      <td>0.947973</td>\n",
       "      <td>0</td>\n",
       "      <td>0.517074</td>\n",
       "      <td>0.329550</td>\n",
       "      <td>1.636039</td>\n",
       "      <td>0.772133</td>\n",
       "      <td>0</td>\n",
       "      <td>0</td>\n",
       "      <td>0.676616</td>\n",
       "      <td>0</td>\n",
       "      <td>0.271518</td>\n",
       "      <td>0</td>\n",
       "      <td>1</td>\n",
       "      <td>1</td>\n",
       "      <td>0</td>\n",
       "      <td>0.421638</td>\n",
       "      <td>1</td>\n",
       "      <td>0.425285</td>\n",
       "      <td>0</td>\n",
       "      <td>1</td>\n",
       "      <td>0.471241</td>\n",
       "      <td>0.083311</td>\n",
       "      <td>0.538917</td>\n",
       "      <td>0.797814</td>\n",
       "      <td>0.757643</td>\n",
       "    </tr>\n",
       "    <tr>\n",
       "      <th>4</th>\n",
       "      <td>4984</td>\n",
       "      <td>0</td>\n",
       "      <td>1.438333</td>\n",
       "      <td>0</td>\n",
       "      <td>0.631982</td>\n",
       "      <td>0</td>\n",
       "      <td>0.517074</td>\n",
       "      <td>0.329550</td>\n",
       "      <td>0.818020</td>\n",
       "      <td>0.772133</td>\n",
       "      <td>0</td>\n",
       "      <td>0</td>\n",
       "      <td>0.902155</td>\n",
       "      <td>0</td>\n",
       "      <td>0.362024</td>\n",
       "      <td>0</td>\n",
       "      <td>0</td>\n",
       "      <td>1</td>\n",
       "      <td>0</td>\n",
       "      <td>0.843277</td>\n",
       "      <td>0</td>\n",
       "      <td>0.000000</td>\n",
       "      <td>0</td>\n",
       "      <td>1</td>\n",
       "      <td>0.402034</td>\n",
       "      <td>0.174046</td>\n",
       "      <td>1.165523</td>\n",
       "      <td>0.943574</td>\n",
       "      <td>0.296608</td>\n",
       "    </tr>\n",
       "  </tbody>\n",
       "</table>\n",
       "</div>"
      ],
      "text/plain": [
       "   index  cc.trumppvote    cc.age  cc.blackdum  cc.cc16_304  cc.cc16_305_2  \\\n",
       "0  18352              0  0.709315            0     0.631982              0   \n",
       "1  21304              0  0.788128            0     0.947973              0   \n",
       "2  17224              0  1.103379            0     0.947973              0   \n",
       "3  27346              0  1.320114            0     0.947973              0   \n",
       "4   4984              0  1.438333            0     0.631982              0   \n",
       "\n",
       "   cc.cc16_422c  cc.cc16_422d  cc.cc16_422e  cc.cc16_422f  cc.catholic  \\\n",
       "0      1.551223      0.329550      1.636039      0.386066            0   \n",
       "1      0.517074      0.659101      1.227029      0.772133            0   \n",
       "2      0.517074      0.659101      0.409010      0.386066            1   \n",
       "3      0.517074      0.329550      1.636039      0.772133            0   \n",
       "4      0.517074      0.329550      0.818020      0.772133            0   \n",
       "\n",
       "   cc.evanprot  cc.ideo7  cc.inddum  cc.religiosity  cc.repdum  cc.sex  \\\n",
       "0            0  0.451077          0        0.362024          0       1   \n",
       "1            0  0.902155          1        0.452529          0       1   \n",
       "2            0  0.225539          0        0.814553          0       1   \n",
       "3            0  0.676616          0        0.271518          0       1   \n",
       "4            0  0.902155          0        0.362024          0       0   \n",
       "\n",
       "   cc.whitedum  cc.emp.nojob  cc.faminc  cc.i.white.educhs  cc.immviewsum  \\\n",
       "0            1             0   0.562184                  1       0.000000   \n",
       "1            1             0   1.264915                  0       0.000000   \n",
       "2            1             0   0.702731                  0       0.000000   \n",
       "3            1             0   0.421638                  1       0.425285   \n",
       "4            1             0   0.843277                  0       0.000000   \n",
       "\n",
       "   cc.maxeduc.4yr  cc.union   crashpc  demo.popdense   job.uer  \\\n",
       "0               0         0  0.981322       0.015040  1.238597   \n",
       "1               1         0  0.696811       0.064986  0.706987   \n",
       "2               1         1  0.357314       0.191659  0.738043   \n",
       "3               0         1  0.471241       0.083311  0.538917   \n",
       "4               0         1  0.402034       0.174046  1.165523   \n",
       "\n",
       "   mort.ucd.despair.disc95.pdpy    rustpc  \n",
       "0                      0.918803  0.458212  \n",
       "1                      0.600396  1.260658  \n",
       "2                      0.859472  0.462104  \n",
       "3                      0.797814  0.757643  \n",
       "4                      0.943574  0.296608  "
      ]
     },
     "execution_count": 552,
     "metadata": {},
     "output_type": "execute_result"
    }
   ],
   "source": [
    "tst.head()"
   ]
  },
  {
   "cell_type": "code",
   "execution_count": 553,
   "metadata": {},
   "outputs": [],
   "source": [
    "import simplejson\n",
    "with open('tmp/' + fn + '_catcont.json','w') as f:\n",
    "    json.dump((res_cont,res_cat,columns_dep_var), f)\n",
    "    "
   ]
  },
  {
   "cell_type": "markdown",
   "metadata": {},
   "source": [
    "# Results\n",
    "Show graphs and stats here"
   ]
  }
 ],
 "metadata": {
  "kernelspec": {
   "display_name": "Python 3",
   "language": "python",
   "name": "python3"
  },
  "language_info": {
   "codemirror_mode": {
    "name": "ipython",
    "version": 3
   },
   "file_extension": ".py",
   "mimetype": "text/x-python",
   "name": "python",
   "nbconvert_exporter": "python",
   "pygments_lexer": "ipython3",
   "version": "3.6.6"
  },
  "toc": {
   "base_numbering": 1,
   "nav_menu": {},
   "number_sections": true,
   "sideBar": true,
   "skip_h1_title": false,
   "title_cell": "Table of Contents",
   "title_sidebar": "Contents",
   "toc_cell": false,
   "toc_position": {
    "height": "calc(100% - 180px)",
    "left": "10px",
    "top": "150px",
    "width": "472px"
   },
   "toc_section_display": true,
   "toc_window_display": true
  },
  "varInspector": {
   "cols": {
    "lenName": 16,
    "lenType": 16,
    "lenVar": 40
   },
   "kernels_config": {
    "python": {
     "delete_cmd_postfix": "",
     "delete_cmd_prefix": "del ",
     "library": "var_list.py",
     "varRefreshCmd": "print(var_dic_list())"
    },
    "r": {
     "delete_cmd_postfix": ") ",
     "delete_cmd_prefix": "rm(",
     "library": "var_list.r",
     "varRefreshCmd": "cat(var_dic_list()) "
    }
   },
   "position": {
    "height": "341px",
    "left": "55px",
    "right": "20px",
    "top": "419px",
    "width": "408px"
   },
   "types_to_exclude": [
    "module",
    "function",
    "builtin_function_or_method",
    "instance",
    "_Feature"
   ],
   "window_display": true
  }
 },
 "nbformat": 4,
 "nbformat_minor": 2
}
