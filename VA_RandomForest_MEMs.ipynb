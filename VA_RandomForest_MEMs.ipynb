{
 "cells": [
  {
   "cell_type": "markdown",
   "metadata": {},
   "source": [
    "# Introduction\n",
    "This is the Marginal Effects at Means portion of the project\n",
    "Please be sure to run DataCleaning.ipynb first to prepare the data\n",
    "\n",
    "This notebook based on Fastai V1 ML course"
   ]
  },
  {
   "cell_type": "markdown",
   "metadata": {},
   "source": [
    "## Imports\n",
    "Import libraries and write settings here."
   ]
  },
  {
   "cell_type": "code",
   "execution_count": 247,
   "metadata": {},
   "outputs": [
    {
     "data": {
      "text/html": [
       "<script type=\"text/javascript\">window.PlotlyConfig = {MathJaxConfig: 'local'};</script><script type=\"text/javascript\">if (window.MathJax) {MathJax.Hub.Config({SVG: {font: \"STIX-Web\"}});}</script><script>requirejs.config({paths: { 'plotly': ['https://cdn.plot.ly/plotly-latest.min']},});if(!window._Plotly) {require(['plotly'],function(plotly) {window._Plotly=plotly;});}</script>"
      ],
      "text/vnd.plotly.v1+html": [
       "<script type=\"text/javascript\">window.PlotlyConfig = {MathJaxConfig: 'local'};</script><script type=\"text/javascript\">if (window.MathJax) {MathJax.Hub.Config({SVG: {font: \"STIX-Web\"}});}</script><script>requirejs.config({paths: { 'plotly': ['https://cdn.plot.ly/plotly-latest.min']},});if(!window._Plotly) {require(['plotly'],function(plotly) {window._Plotly=plotly;});}</script>"
      ]
     },
     "metadata": {},
     "output_type": "display_data"
    },
    {
     "data": {
      "text/html": [
       "<script type=\"text/javascript\">window.PlotlyConfig = {MathJaxConfig: 'local'};</script><script type=\"text/javascript\">if (window.MathJax) {MathJax.Hub.Config({SVG: {font: \"STIX-Web\"}});}</script><script>requirejs.config({paths: { 'plotly': ['https://cdn.plot.ly/plotly-latest.min']},});if(!window._Plotly) {require(['plotly'],function(plotly) {window._Plotly=plotly;});}</script>"
      ],
      "text/vnd.plotly.v1+html": [
       "<script type=\"text/javascript\">window.PlotlyConfig = {MathJaxConfig: 'local'};</script><script type=\"text/javascript\">if (window.MathJax) {MathJax.Hub.Config({SVG: {font: \"STIX-Web\"}});}</script><script>requirejs.config({paths: { 'plotly': ['https://cdn.plot.ly/plotly-latest.min']},});if(!window._Plotly) {require(['plotly'],function(plotly) {window._Plotly=plotly;});}</script>"
      ]
     },
     "metadata": {},
     "output_type": "display_data"
    }
   ],
   "source": [
    "from fastai.tabular import *\n",
    "from fastai import *\n",
    "\n",
    "# Data manipulation\n",
    "import pandas as pd\n",
    "import numpy as np\n",
    "\n",
    "# Options for pandas\n",
    "pd.options.display.max_columns = 60\n",
    "pd.options.display.max_rows = 60\n",
    "\n",
    "# Display all cell outputs\n",
    "from IPython.core.interactiveshell import InteractiveShell\n",
    "InteractiveShell.ast_node_interactivity = 'all'\n",
    "\n",
    "from IPython import get_ipython\n",
    "ipython = get_ipython()\n",
    "\n",
    "# autoreload extension\n",
    "if 'autoreload' not in ipython.extension_manager.loaded:\n",
    "    %load_ext autoreload\n",
    "\n",
    "%autoreload 2\n",
    "\n",
    "# Visualizations\n",
    "import plotly.plotly as py\n",
    "import plotly.graph_objs as go\n",
    "from plotly.offline import iplot, init_notebook_mode\n",
    "init_notebook_mode(connected=True)\n",
    "\n",
    "import cufflinks as cf\n",
    "cf.go_offline(connected=True)\n",
    "cf.set_config_file(theme='white')"
   ]
  },
  {
   "cell_type": "markdown",
   "metadata": {},
   "source": [
    "# Load train/test\n",
    "If either of the following fail then please be sure to run DataCleaning.ipynb first to prepare the data"
   ]
  },
  {
   "cell_type": "code",
   "execution_count": 248,
   "metadata": {},
   "outputs": [],
   "source": [
    "# first column in each file is the dependent variable, the rest are independant\n",
    "csv_files=['vote12gop','TrumpGEVote','TrumpPVote']\n",
    "\n",
    "whichfle=2\n",
    "fn = csv_files[whichfle]\n",
    "\n",
    "jsonfile = 'tmp/' + fn + '_catcont.json'\n",
    "\n",
    "outdir = 'outBElectionResultsMEMs'\n",
    "filename='results.csv'\n",
    "filename_all = 'results_complete.csv'\n",
    "filename_model_params = \"RF_model_params.sav\"\n",
    "os.makedirs(outdir, exist_ok=True)\n",
    "\n",
    "#get continuous and categorical variables\n",
    "with open(jsonfile) as f:\n",
    "    data1 = json.load(f)\n",
    "    res_cont = data1[0]\n",
    "    res_cat = data1[1] \n",
    "    filter= data1[3]\n",
    "    \n",
    "trnfile = 'tmp/' + fn +'_'+filter+'_train'\n",
    "tstfile = 'tmp/' + fn +'_'+filter+'_tst'\n"
   ]
  },
  {
   "cell_type": "code",
   "execution_count": 249,
   "metadata": {},
   "outputs": [
    {
     "data": {
      "text/plain": [
       "'tmp/TrumpPVote_cc.inddum_train'"
      ]
     },
     "execution_count": 249,
     "metadata": {},
     "output_type": "execute_result"
    },
    {
     "data": {
      "text/plain": [
       "'tmp/TrumpPVote_cc.inddum_tst'"
      ]
     },
     "execution_count": 249,
     "metadata": {},
     "output_type": "execute_result"
    },
    {
     "data": {
      "text/plain": [
       "'cc.inddum'"
      ]
     },
     "execution_count": 249,
     "metadata": {},
     "output_type": "execute_result"
    },
    {
     "data": {
      "text/plain": [
       "'TrumpPVote'"
      ]
     },
     "execution_count": 249,
     "metadata": {},
     "output_type": "execute_result"
    }
   ],
   "source": [
    "trnfile\n",
    "tstfile\n",
    "filter\n",
    "fn"
   ]
  },
  {
   "cell_type": "code",
   "execution_count": 250,
   "metadata": {},
   "outputs": [],
   "source": [
    "#get processed training and test data\n",
    "trn = pd.read_feather(trnfile)\n",
    "tst = pd.read_feather(tstfile)\n",
    "# columns_dep_var= 'cc.vote16'"
   ]
  },
  {
   "cell_type": "code",
   "execution_count": 251,
   "metadata": {},
   "outputs": [
    {
     "data": {
      "text/plain": [
       "5948"
      ]
     },
     "execution_count": 251,
     "metadata": {},
     "output_type": "execute_result"
    }
   ],
   "source": [
    "len(trn)"
   ]
  },
  {
   "cell_type": "code",
   "execution_count": 252,
   "metadata": {},
   "outputs": [],
   "source": [
    "trn.drop('index',axis=1,inplace=True);\n",
    "tst.drop('index',axis=1,inplace=True);"
   ]
  },
  {
   "cell_type": "markdown",
   "metadata": {},
   "source": [
    "## Get continuous and categorical variables, convert dependant variable to int64"
   ]
  },
  {
   "cell_type": "code",
   "execution_count": 253,
   "metadata": {},
   "outputs": [
    {
     "data": {
      "text/plain": [
       "'cc.trumppvote'"
      ]
     },
     "execution_count": 253,
     "metadata": {},
     "output_type": "execute_result"
    }
   ],
   "source": [
    "columns_dep_var = trn.columns[0]\n",
    "columns_dep_var"
   ]
  },
  {
   "cell_type": "code",
   "execution_count": 254,
   "metadata": {},
   "outputs": [],
   "source": [
    "#remove the dependant variable\n",
    "res_cont = [x for x in res_cont if x not in columns_dep_var]\n",
    "res_cat = [x for x in res_cat if x not in columns_dep_var]"
   ]
  },
  {
   "cell_type": "code",
   "execution_count": 255,
   "metadata": {},
   "outputs": [
    {
     "data": {
      "text/html": [
       "<div>\n",
       "<style scoped>\n",
       "    .dataframe tbody tr th:only-of-type {\n",
       "        vertical-align: middle;\n",
       "    }\n",
       "\n",
       "    .dataframe tbody tr th {\n",
       "        vertical-align: top;\n",
       "    }\n",
       "\n",
       "    .dataframe thead th {\n",
       "        text-align: right;\n",
       "    }\n",
       "</style>\n",
       "<table border=\"1\" class=\"dataframe\">\n",
       "  <thead>\n",
       "    <tr style=\"text-align: right;\">\n",
       "      <th></th>\n",
       "      <th>cc.trumppvote</th>\n",
       "      <th>cc.age</th>\n",
       "      <th>cc.blackdum</th>\n",
       "      <th>cc.cc16_304</th>\n",
       "      <th>cc.cc16_305_2</th>\n",
       "      <th>cc.cc16_422c</th>\n",
       "      <th>cc.cc16_422d</th>\n",
       "      <th>cc.cc16_422e</th>\n",
       "      <th>cc.cc16_422f</th>\n",
       "      <th>cc.catholic</th>\n",
       "      <th>cc.evanprot</th>\n",
       "      <th>cc.ideo7</th>\n",
       "      <th>cc.inddum</th>\n",
       "      <th>cc.religiosity</th>\n",
       "      <th>cc.repdum</th>\n",
       "      <th>cc.sex</th>\n",
       "      <th>cc.whitedum</th>\n",
       "      <th>cc.emp.nojob</th>\n",
       "      <th>cc.faminc</th>\n",
       "      <th>cc.i.white.educhs</th>\n",
       "      <th>cc.immviewsum</th>\n",
       "      <th>cc.maxeduc.4yr</th>\n",
       "      <th>cc.union</th>\n",
       "      <th>crashpc</th>\n",
       "      <th>demo.popdense</th>\n",
       "      <th>job.uer</th>\n",
       "      <th>mort.ucd.despair.disc95.pdpy</th>\n",
       "      <th>rustpc</th>\n",
       "    </tr>\n",
       "  </thead>\n",
       "  <tbody>\n",
       "    <tr>\n",
       "      <th>0</th>\n",
       "      <td>0</td>\n",
       "      <td>0.689612</td>\n",
       "      <td>1</td>\n",
       "      <td>0.631982</td>\n",
       "      <td>0</td>\n",
       "      <td>0.517074</td>\n",
       "      <td>0.659101</td>\n",
       "      <td>0.818020</td>\n",
       "      <td>0.386066</td>\n",
       "      <td>0</td>\n",
       "      <td>0</td>\n",
       "      <td>0.225539</td>\n",
       "      <td>1</td>\n",
       "      <td>0.543035</td>\n",
       "      <td>0</td>\n",
       "      <td>1</td>\n",
       "      <td>0</td>\n",
       "      <td>0</td>\n",
       "      <td>1.124369</td>\n",
       "      <td>0</td>\n",
       "      <td>0.000000</td>\n",
       "      <td>0</td>\n",
       "      <td>0</td>\n",
       "      <td>0.954196</td>\n",
       "      <td>0.159130</td>\n",
       "      <td>0.767272</td>\n",
       "      <td>0.785942</td>\n",
       "      <td>0.911288</td>\n",
       "    </tr>\n",
       "    <tr>\n",
       "      <th>1</th>\n",
       "      <td>0</td>\n",
       "      <td>1.201895</td>\n",
       "      <td>0</td>\n",
       "      <td>0.947973</td>\n",
       "      <td>1</td>\n",
       "      <td>1.551223</td>\n",
       "      <td>0.988651</td>\n",
       "      <td>0.409010</td>\n",
       "      <td>1.158199</td>\n",
       "      <td>0</td>\n",
       "      <td>1</td>\n",
       "      <td>1.127693</td>\n",
       "      <td>1</td>\n",
       "      <td>1.267082</td>\n",
       "      <td>0</td>\n",
       "      <td>0</td>\n",
       "      <td>1</td>\n",
       "      <td>0</td>\n",
       "      <td>1.405461</td>\n",
       "      <td>0</td>\n",
       "      <td>1.275854</td>\n",
       "      <td>0</td>\n",
       "      <td>0</td>\n",
       "      <td>0.271458</td>\n",
       "      <td>0.047007</td>\n",
       "      <td>0.730736</td>\n",
       "      <td>1.020814</td>\n",
       "      <td>0.001882</td>\n",
       "    </tr>\n",
       "    <tr>\n",
       "      <th>2</th>\n",
       "      <td>1</td>\n",
       "      <td>1.103379</td>\n",
       "      <td>0</td>\n",
       "      <td>0.947973</td>\n",
       "      <td>0</td>\n",
       "      <td>0.517074</td>\n",
       "      <td>0.988651</td>\n",
       "      <td>1.636039</td>\n",
       "      <td>0.772133</td>\n",
       "      <td>0</td>\n",
       "      <td>0</td>\n",
       "      <td>0.902155</td>\n",
       "      <td>1</td>\n",
       "      <td>0.362024</td>\n",
       "      <td>0</td>\n",
       "      <td>0</td>\n",
       "      <td>1</td>\n",
       "      <td>0</td>\n",
       "      <td>0.983823</td>\n",
       "      <td>0</td>\n",
       "      <td>0.425285</td>\n",
       "      <td>1</td>\n",
       "      <td>0</td>\n",
       "      <td>0.201719</td>\n",
       "      <td>0.084833</td>\n",
       "      <td>0.507861</td>\n",
       "      <td>0.880143</td>\n",
       "      <td>0.255189</td>\n",
       "    </tr>\n",
       "    <tr>\n",
       "      <th>3</th>\n",
       "      <td>0</td>\n",
       "      <td>1.398927</td>\n",
       "      <td>0</td>\n",
       "      <td>0.631982</td>\n",
       "      <td>0</td>\n",
       "      <td>0.517074</td>\n",
       "      <td>0.329550</td>\n",
       "      <td>1.636039</td>\n",
       "      <td>0.386066</td>\n",
       "      <td>0</td>\n",
       "      <td>0</td>\n",
       "      <td>0.451077</td>\n",
       "      <td>1</td>\n",
       "      <td>1.086071</td>\n",
       "      <td>0</td>\n",
       "      <td>1</td>\n",
       "      <td>1</td>\n",
       "      <td>0</td>\n",
       "      <td>1.686553</td>\n",
       "      <td>0</td>\n",
       "      <td>0.000000</td>\n",
       "      <td>1</td>\n",
       "      <td>0</td>\n",
       "      <td>0.383675</td>\n",
       "      <td>0.040013</td>\n",
       "      <td>0.741697</td>\n",
       "      <td>1.058572</td>\n",
       "      <td>0.199546</td>\n",
       "    </tr>\n",
       "    <tr>\n",
       "      <th>4</th>\n",
       "      <td>0</td>\n",
       "      <td>1.261005</td>\n",
       "      <td>0</td>\n",
       "      <td>0.631982</td>\n",
       "      <td>0</td>\n",
       "      <td>1.034148</td>\n",
       "      <td>0.329550</td>\n",
       "      <td>0.409010</td>\n",
       "      <td>0.386066</td>\n",
       "      <td>0</td>\n",
       "      <td>0</td>\n",
       "      <td>0.676616</td>\n",
       "      <td>1</td>\n",
       "      <td>1.086071</td>\n",
       "      <td>0</td>\n",
       "      <td>0</td>\n",
       "      <td>1</td>\n",
       "      <td>0</td>\n",
       "      <td>1.264915</td>\n",
       "      <td>0</td>\n",
       "      <td>0.425285</td>\n",
       "      <td>0</td>\n",
       "      <td>0</td>\n",
       "      <td>0.069955</td>\n",
       "      <td>0.063948</td>\n",
       "      <td>0.801982</td>\n",
       "      <td>0.834638</td>\n",
       "      <td>0.000000</td>\n",
       "    </tr>\n",
       "  </tbody>\n",
       "</table>\n",
       "</div>"
      ],
      "text/plain": [
       "   cc.trumppvote    cc.age  cc.blackdum  cc.cc16_304  cc.cc16_305_2  \\\n",
       "0              0  0.689612            1     0.631982              0   \n",
       "1              0  1.201895            0     0.947973              1   \n",
       "2              1  1.103379            0     0.947973              0   \n",
       "3              0  1.398927            0     0.631982              0   \n",
       "4              0  1.261005            0     0.631982              0   \n",
       "\n",
       "   cc.cc16_422c  cc.cc16_422d  cc.cc16_422e  cc.cc16_422f  cc.catholic  \\\n",
       "0      0.517074      0.659101      0.818020      0.386066            0   \n",
       "1      1.551223      0.988651      0.409010      1.158199            0   \n",
       "2      0.517074      0.988651      1.636039      0.772133            0   \n",
       "3      0.517074      0.329550      1.636039      0.386066            0   \n",
       "4      1.034148      0.329550      0.409010      0.386066            0   \n",
       "\n",
       "   cc.evanprot  cc.ideo7  cc.inddum  cc.religiosity  cc.repdum  cc.sex  \\\n",
       "0            0  0.225539          1        0.543035          0       1   \n",
       "1            1  1.127693          1        1.267082          0       0   \n",
       "2            0  0.902155          1        0.362024          0       0   \n",
       "3            0  0.451077          1        1.086071          0       1   \n",
       "4            0  0.676616          1        1.086071          0       0   \n",
       "\n",
       "   cc.whitedum  cc.emp.nojob  cc.faminc  cc.i.white.educhs  cc.immviewsum  \\\n",
       "0            0             0   1.124369                  0       0.000000   \n",
       "1            1             0   1.405461                  0       1.275854   \n",
       "2            1             0   0.983823                  0       0.425285   \n",
       "3            1             0   1.686553                  0       0.000000   \n",
       "4            1             0   1.264915                  0       0.425285   \n",
       "\n",
       "   cc.maxeduc.4yr  cc.union   crashpc  demo.popdense   job.uer  \\\n",
       "0               0         0  0.954196       0.159130  0.767272   \n",
       "1               0         0  0.271458       0.047007  0.730736   \n",
       "2               1         0  0.201719       0.084833  0.507861   \n",
       "3               1         0  0.383675       0.040013  0.741697   \n",
       "4               0         0  0.069955       0.063948  0.801982   \n",
       "\n",
       "   mort.ucd.despair.disc95.pdpy    rustpc  \n",
       "0                      0.785942  0.911288  \n",
       "1                      1.020814  0.001882  \n",
       "2                      0.880143  0.255189  \n",
       "3                      1.058572  0.199546  \n",
       "4                      0.834638  0.000000  "
      ]
     },
     "execution_count": 255,
     "metadata": {},
     "output_type": "execute_result"
    }
   ],
   "source": [
    "trn.head()"
   ]
  },
  {
   "cell_type": "code",
   "execution_count": 256,
   "metadata": {},
   "outputs": [
    {
     "name": "stdout",
     "output_type": "stream",
     "text": [
      "5948\n",
      "661\n"
     ]
    }
   ],
   "source": [
    "#convert trumpgevote to long (otherwise fit fails)\n",
    "trn[columns_dep_var] = trn[columns_dep_var].astype('int64');\n",
    "tst[columns_dep_var] = tst[columns_dep_var].astype('int64');\n",
    "\n",
    "print(str(len(trn)))\n",
    "print(str(len(tst)))"
   ]
  },
  {
   "cell_type": "code",
   "execution_count": 257,
   "metadata": {},
   "outputs": [],
   "source": [
    "#split out trn_y and tst_y\n",
    "#this is the dep_var, converted to an int\n",
    "trn_y = trn[columns_dep_var].copy()\n",
    "tst_y = tst[columns_dep_var].copy()\n",
    "trn_y.astype('int64');\n",
    "trn_y.astype('int64');\n",
    "\n",
    "trn.drop(columns_dep_var,axis=1,inplace=True);\n",
    "tst.drop(columns_dep_var,axis=1,inplace=True);"
   ]
  },
  {
   "cell_type": "markdown",
   "metadata": {},
   "source": [
    "## Lets see what features are corelated with each other"
   ]
  },
  {
   "cell_type": "code",
   "execution_count": 258,
   "metadata": {},
   "outputs": [],
   "source": [
    "# from rfpimp import plot_corr_heatmap\n",
    "# viz = plot_corr_heatmap(trn, figsize=(50,30))\n",
    "# viz.view()"
   ]
  },
  {
   "cell_type": "markdown",
   "metadata": {},
   "source": [
    "## Categorify and Fill Missing"
   ]
  },
  {
   "cell_type": "code",
   "execution_count": 259,
   "metadata": {},
   "outputs": [],
   "source": [
    "#from docs https://docs.fast.ai/tabular.transform.html\n",
    "# tfm = Categorify(cat_names=res_cat, cont_names=res_cont)\n",
    "# tfm(trn)\n",
    "# tfm(tst)\n",
    "# #just checking to see if it works on any old variable\n",
    "# trn[res_cat[0]].cat.categories\n",
    "# tst[res_cat[0]].cat.categories"
   ]
  },
  {
   "cell_type": "code",
   "execution_count": 260,
   "metadata": {},
   "outputs": [],
   "source": [
    "tfm1 = FillMissing(cat_names=res_cat, cont_names=res_cont, add_col=False)\n",
    "tfm1(trn)\n",
    "tfm1(tst)"
   ]
  },
  {
   "cell_type": "markdown",
   "metadata": {},
   "source": [
    "## Clean up any missing columns that result from unfortunate test selection"
   ]
  },
  {
   "cell_type": "code",
   "execution_count": 261,
   "metadata": {},
   "outputs": [
    {
     "data": {
      "text/plain": [
       "'cc.trumppvote'"
      ]
     },
     "execution_count": 261,
     "metadata": {},
     "output_type": "execute_result"
    }
   ],
   "source": [
    "columns_dep_var"
   ]
  },
  {
   "cell_type": "code",
   "execution_count": 262,
   "metadata": {},
   "outputs": [
    {
     "name": "stdout",
     "output_type": "stream",
     "text": [
      "Total trn columns = 27, total tst columns = 27\n",
      "Total trn columns with Nans= 0\n",
      "Total tst columns with Nans= 0\n"
     ]
    }
   ],
   "source": [
    "#You cannot have any Nan (missing data) fields or random forest will not work.\n",
    "print(f\"Total trn columns = {len(trn.columns)}, total tst columns = {len(tst.columns)}\") \n",
    "print(f\"Total trn columns with Nans= {len(trn.columns[trn.isnull().any()])}\") #add ~ to get columns with no missing values\n",
    "print(f\"Total tst columns with Nans= {len(tst.columns[tst.isnull().any()])}\") #add ~ to get columns with no missing values"
   ]
  },
  {
   "cell_type": "code",
   "execution_count": 263,
   "metadata": {},
   "outputs": [
    {
     "data": {
      "text/plain": [
       "set()"
      ]
     },
     "execution_count": 263,
     "metadata": {},
     "output_type": "execute_result"
    },
    {
     "data": {
      "text/plain": [
       "set()"
      ]
     },
     "execution_count": 263,
     "metadata": {},
     "output_type": "execute_result"
    }
   ],
   "source": [
    "#hmmm if either has 1 more column than train then see what it is\n",
    "set(tst.columns)-set(trn.columns)\n",
    "set(trn.columns)-set(tst.columns)\n",
    "\n",
    "#missing one of the _na columns.  This is added, and set to 1, when a variable has an NaN value to mark\n",
    "#columns that have NaNs\n",
    "\n",
    "#find the index of the column in trn\n",
    "# idx=trn.columns.tolist().index('cc.catholic_na')\n",
    "# idx\n",
    "# type(trn.columns)\n",
    "\n",
    "# tst.insert(loc=idx, column='cc.catholic_na', value=False)"
   ]
  },
  {
   "cell_type": "code",
   "execution_count": 264,
   "metadata": {},
   "outputs": [
    {
     "data": {
      "text/html": [
       "<div>\n",
       "<style scoped>\n",
       "    .dataframe tbody tr th:only-of-type {\n",
       "        vertical-align: middle;\n",
       "    }\n",
       "\n",
       "    .dataframe tbody tr th {\n",
       "        vertical-align: top;\n",
       "    }\n",
       "\n",
       "    .dataframe thead th {\n",
       "        text-align: right;\n",
       "    }\n",
       "</style>\n",
       "<table border=\"1\" class=\"dataframe\">\n",
       "  <thead>\n",
       "    <tr style=\"text-align: right;\">\n",
       "      <th></th>\n",
       "      <th>cc.age</th>\n",
       "      <th>cc.blackdum</th>\n",
       "      <th>cc.cc16_304</th>\n",
       "      <th>cc.cc16_305_2</th>\n",
       "      <th>cc.cc16_422c</th>\n",
       "      <th>cc.cc16_422d</th>\n",
       "      <th>cc.cc16_422e</th>\n",
       "      <th>cc.cc16_422f</th>\n",
       "      <th>cc.catholic</th>\n",
       "      <th>cc.evanprot</th>\n",
       "      <th>cc.ideo7</th>\n",
       "      <th>cc.inddum</th>\n",
       "      <th>cc.religiosity</th>\n",
       "      <th>cc.repdum</th>\n",
       "      <th>cc.sex</th>\n",
       "      <th>cc.whitedum</th>\n",
       "      <th>cc.emp.nojob</th>\n",
       "      <th>cc.faminc</th>\n",
       "      <th>cc.i.white.educhs</th>\n",
       "      <th>cc.immviewsum</th>\n",
       "      <th>cc.maxeduc.4yr</th>\n",
       "      <th>cc.union</th>\n",
       "      <th>crashpc</th>\n",
       "      <th>demo.popdense</th>\n",
       "      <th>job.uer</th>\n",
       "      <th>mort.ucd.despair.disc95.pdpy</th>\n",
       "      <th>rustpc</th>\n",
       "    </tr>\n",
       "  </thead>\n",
       "  <tbody>\n",
       "    <tr>\n",
       "      <th>0</th>\n",
       "      <td>0.689612</td>\n",
       "      <td>1</td>\n",
       "      <td>0.631982</td>\n",
       "      <td>0</td>\n",
       "      <td>0.517074</td>\n",
       "      <td>0.659101</td>\n",
       "      <td>0.818020</td>\n",
       "      <td>0.386066</td>\n",
       "      <td>0</td>\n",
       "      <td>0</td>\n",
       "      <td>0.225539</td>\n",
       "      <td>1</td>\n",
       "      <td>0.543035</td>\n",
       "      <td>0</td>\n",
       "      <td>1</td>\n",
       "      <td>0</td>\n",
       "      <td>0</td>\n",
       "      <td>1.124369</td>\n",
       "      <td>0</td>\n",
       "      <td>0.000000</td>\n",
       "      <td>0</td>\n",
       "      <td>0</td>\n",
       "      <td>0.954196</td>\n",
       "      <td>0.159130</td>\n",
       "      <td>0.767272</td>\n",
       "      <td>0.785942</td>\n",
       "      <td>0.911288</td>\n",
       "    </tr>\n",
       "    <tr>\n",
       "      <th>1</th>\n",
       "      <td>1.201895</td>\n",
       "      <td>0</td>\n",
       "      <td>0.947973</td>\n",
       "      <td>1</td>\n",
       "      <td>1.551223</td>\n",
       "      <td>0.988651</td>\n",
       "      <td>0.409010</td>\n",
       "      <td>1.158199</td>\n",
       "      <td>0</td>\n",
       "      <td>1</td>\n",
       "      <td>1.127693</td>\n",
       "      <td>1</td>\n",
       "      <td>1.267082</td>\n",
       "      <td>0</td>\n",
       "      <td>0</td>\n",
       "      <td>1</td>\n",
       "      <td>0</td>\n",
       "      <td>1.405461</td>\n",
       "      <td>0</td>\n",
       "      <td>1.275854</td>\n",
       "      <td>0</td>\n",
       "      <td>0</td>\n",
       "      <td>0.271458</td>\n",
       "      <td>0.047007</td>\n",
       "      <td>0.730736</td>\n",
       "      <td>1.020814</td>\n",
       "      <td>0.001882</td>\n",
       "    </tr>\n",
       "    <tr>\n",
       "      <th>2</th>\n",
       "      <td>1.103379</td>\n",
       "      <td>0</td>\n",
       "      <td>0.947973</td>\n",
       "      <td>0</td>\n",
       "      <td>0.517074</td>\n",
       "      <td>0.988651</td>\n",
       "      <td>1.636039</td>\n",
       "      <td>0.772133</td>\n",
       "      <td>0</td>\n",
       "      <td>0</td>\n",
       "      <td>0.902155</td>\n",
       "      <td>1</td>\n",
       "      <td>0.362024</td>\n",
       "      <td>0</td>\n",
       "      <td>0</td>\n",
       "      <td>1</td>\n",
       "      <td>0</td>\n",
       "      <td>0.983823</td>\n",
       "      <td>0</td>\n",
       "      <td>0.425285</td>\n",
       "      <td>1</td>\n",
       "      <td>0</td>\n",
       "      <td>0.201719</td>\n",
       "      <td>0.084833</td>\n",
       "      <td>0.507861</td>\n",
       "      <td>0.880143</td>\n",
       "      <td>0.255189</td>\n",
       "    </tr>\n",
       "    <tr>\n",
       "      <th>3</th>\n",
       "      <td>1.398927</td>\n",
       "      <td>0</td>\n",
       "      <td>0.631982</td>\n",
       "      <td>0</td>\n",
       "      <td>0.517074</td>\n",
       "      <td>0.329550</td>\n",
       "      <td>1.636039</td>\n",
       "      <td>0.386066</td>\n",
       "      <td>0</td>\n",
       "      <td>0</td>\n",
       "      <td>0.451077</td>\n",
       "      <td>1</td>\n",
       "      <td>1.086071</td>\n",
       "      <td>0</td>\n",
       "      <td>1</td>\n",
       "      <td>1</td>\n",
       "      <td>0</td>\n",
       "      <td>1.686553</td>\n",
       "      <td>0</td>\n",
       "      <td>0.000000</td>\n",
       "      <td>1</td>\n",
       "      <td>0</td>\n",
       "      <td>0.383675</td>\n",
       "      <td>0.040013</td>\n",
       "      <td>0.741697</td>\n",
       "      <td>1.058572</td>\n",
       "      <td>0.199546</td>\n",
       "    </tr>\n",
       "    <tr>\n",
       "      <th>4</th>\n",
       "      <td>1.261005</td>\n",
       "      <td>0</td>\n",
       "      <td>0.631982</td>\n",
       "      <td>0</td>\n",
       "      <td>1.034148</td>\n",
       "      <td>0.329550</td>\n",
       "      <td>0.409010</td>\n",
       "      <td>0.386066</td>\n",
       "      <td>0</td>\n",
       "      <td>0</td>\n",
       "      <td>0.676616</td>\n",
       "      <td>1</td>\n",
       "      <td>1.086071</td>\n",
       "      <td>0</td>\n",
       "      <td>0</td>\n",
       "      <td>1</td>\n",
       "      <td>0</td>\n",
       "      <td>1.264915</td>\n",
       "      <td>0</td>\n",
       "      <td>0.425285</td>\n",
       "      <td>0</td>\n",
       "      <td>0</td>\n",
       "      <td>0.069955</td>\n",
       "      <td>0.063948</td>\n",
       "      <td>0.801982</td>\n",
       "      <td>0.834638</td>\n",
       "      <td>0.000000</td>\n",
       "    </tr>\n",
       "  </tbody>\n",
       "</table>\n",
       "</div>"
      ],
      "text/plain": [
       "     cc.age  cc.blackdum  cc.cc16_304  cc.cc16_305_2  cc.cc16_422c  \\\n",
       "0  0.689612            1     0.631982              0      0.517074   \n",
       "1  1.201895            0     0.947973              1      1.551223   \n",
       "2  1.103379            0     0.947973              0      0.517074   \n",
       "3  1.398927            0     0.631982              0      0.517074   \n",
       "4  1.261005            0     0.631982              0      1.034148   \n",
       "\n",
       "   cc.cc16_422d  cc.cc16_422e  cc.cc16_422f  cc.catholic  cc.evanprot  \\\n",
       "0      0.659101      0.818020      0.386066            0            0   \n",
       "1      0.988651      0.409010      1.158199            0            1   \n",
       "2      0.988651      1.636039      0.772133            0            0   \n",
       "3      0.329550      1.636039      0.386066            0            0   \n",
       "4      0.329550      0.409010      0.386066            0            0   \n",
       "\n",
       "   cc.ideo7  cc.inddum  cc.religiosity  cc.repdum  cc.sex  cc.whitedum  \\\n",
       "0  0.225539          1        0.543035          0       1            0   \n",
       "1  1.127693          1        1.267082          0       0            1   \n",
       "2  0.902155          1        0.362024          0       0            1   \n",
       "3  0.451077          1        1.086071          0       1            1   \n",
       "4  0.676616          1        1.086071          0       0            1   \n",
       "\n",
       "   cc.emp.nojob  cc.faminc  cc.i.white.educhs  cc.immviewsum  cc.maxeduc.4yr  \\\n",
       "0             0   1.124369                  0       0.000000               0   \n",
       "1             0   1.405461                  0       1.275854               0   \n",
       "2             0   0.983823                  0       0.425285               1   \n",
       "3             0   1.686553                  0       0.000000               1   \n",
       "4             0   1.264915                  0       0.425285               0   \n",
       "\n",
       "   cc.union   crashpc  demo.popdense   job.uer  mort.ucd.despair.disc95.pdpy  \\\n",
       "0         0  0.954196       0.159130  0.767272                      0.785942   \n",
       "1         0  0.271458       0.047007  0.730736                      1.020814   \n",
       "2         0  0.201719       0.084833  0.507861                      0.880143   \n",
       "3         0  0.383675       0.040013  0.741697                      1.058572   \n",
       "4         0  0.069955       0.063948  0.801982                      0.834638   \n",
       "\n",
       "     rustpc  \n",
       "0  0.911288  \n",
       "1  0.001882  \n",
       "2  0.255189  \n",
       "3  0.199546  \n",
       "4  0.000000  "
      ]
     },
     "execution_count": 264,
     "metadata": {},
     "output_type": "execute_result"
    }
   ],
   "source": [
    "trn.head()"
   ]
  },
  {
   "cell_type": "markdown",
   "metadata": {},
   "source": [
    "# Train a RandomForest on all data"
   ]
  },
  {
   "cell_type": "code",
   "execution_count": 265,
   "metadata": {},
   "outputs": [
    {
     "data": {
      "text/plain": [
       "Index(['cc.age', 'cc.blackdum', 'cc.cc16_304', 'cc.cc16_305_2', 'cc.cc16_422c',\n",
       "       'cc.cc16_422d', 'cc.cc16_422e', 'cc.cc16_422f', 'cc.catholic',\n",
       "       'cc.evanprot', 'cc.ideo7', 'cc.inddum', 'cc.religiosity', 'cc.repdum',\n",
       "       'cc.sex', 'cc.whitedum', 'cc.emp.nojob', 'cc.faminc',\n",
       "       'cc.i.white.educhs', 'cc.immviewsum', 'cc.maxeduc.4yr', 'cc.union',\n",
       "       'crashpc', 'demo.popdense', 'job.uer', 'mort.ucd.despair.disc95.pdpy',\n",
       "       'rustpc'],\n",
       "      dtype='object')"
      ]
     },
     "execution_count": 265,
     "metadata": {},
     "output_type": "execute_result"
    },
    {
     "data": {
      "text/plain": [
       "27"
      ]
     },
     "execution_count": 265,
     "metadata": {},
     "output_type": "execute_result"
    }
   ],
   "source": [
    "trn.head().columns\n",
    "len(trn.columns)"
   ]
  },
  {
   "cell_type": "code",
   "execution_count": 266,
   "metadata": {},
   "outputs": [],
   "source": [
    "from pandas_summary import DataFrameSummary\n",
    "from sklearn.ensemble import RandomForestRegressor, RandomForestClassifier\n",
    "from IPython.display import display\n",
    "from sklearn import metrics\n",
    "\n",
    "#create a random forest object\n",
    "m_rf = RandomForestClassifier(n_estimators=100, n_jobs=-1, oob_score=True, max_features='auto', min_samples_leaf=10)"
   ]
  },
  {
   "cell_type": "code",
   "execution_count": 267,
   "metadata": {},
   "outputs": [],
   "source": [
    "\n",
    "def rmse(x,y): \n",
    "    '''this and R**2 used for continuous variables'''\n",
    "    return math.sqrt(((x-y)**2).mean())\n",
    "\n",
    "def print_score(m, trn, trn_y, tst, tst_y):\n",
    "    '''\n",
    "    \n",
    "    '''\n",
    "    res = [m.score(trn, trn_y), m.score(tst, tst_y)]\n",
    "    if hasattr(m, 'oob_score_'): res.append(m.oob_score_)\n",
    "    print(res)"
   ]
  },
  {
   "cell_type": "code",
   "execution_count": 268,
   "metadata": {},
   "outputs": [
    {
     "data": {
      "text/plain": [
       "RandomForestClassifier(bootstrap=True, class_weight=None, criterion='gini',\n",
       "            max_depth=None, max_features='auto', max_leaf_nodes=None,\n",
       "            min_impurity_decrease=0.0, min_impurity_split=None,\n",
       "            min_samples_leaf=10, min_samples_split=2,\n",
       "            min_weight_fraction_leaf=0.0, n_estimators=100, n_jobs=-1,\n",
       "            oob_score=True, random_state=None, verbose=0, warm_start=False)"
      ]
     },
     "execution_count": 268,
     "metadata": {},
     "output_type": "execute_result"
    },
    {
     "name": "stdout",
     "output_type": "stream",
     "text": [
      "[0.8703765971755212, 0.794251134644478, 0.7995965030262273]\n"
     ]
    }
   ],
   "source": [
    "#train the random forest \n",
    "m_rf.fit(trn, trn_y)\n",
    "\n",
    "print_score(m_rf, trn, trn_y, tst, tst_y)"
   ]
  },
  {
   "cell_type": "markdown",
   "metadata": {},
   "source": [
    "# Test the model on test data"
   ]
  },
  {
   "cell_type": "code",
   "execution_count": 269,
   "metadata": {},
   "outputs": [],
   "source": [
    "# len(tst.columns)"
   ]
  },
  {
   "cell_type": "code",
   "execution_count": 270,
   "metadata": {},
   "outputs": [],
   "source": [
    "def eval_accuracy(preds,targs, silent=True):\n",
    "    totals = len(preds)\n",
    "    matches = 0\n",
    "    for x in zip(preds,targs):\n",
    "        if x[0]==x[1]:\n",
    "            matches+=1\n",
    "    acc=100*matches/totals \n",
    "    if( silent == False):\n",
    "        print(f\"Got {matches} right out of {totals} samples, Accuracy is {acc} percent\")\n",
    "    return acc"
   ]
  },
  {
   "cell_type": "code",
   "execution_count": 271,
   "metadata": {},
   "outputs": [
    {
     "name": "stdout",
     "output_type": "stream",
     "text": [
      "Got 525 right out of 661 samples, Accuracy is 79.4251134644478 percent\n"
     ]
    }
   ],
   "source": [
    "preds1 = m_rf.predict(tst)\n",
    "\n",
    "eval_accuracy(preds1,tst_y,silent=False);"
   ]
  },
  {
   "cell_type": "markdown",
   "metadata": {},
   "source": [
    "## Save this model for later"
   ]
  },
  {
   "cell_type": "code",
   "execution_count": 272,
   "metadata": {},
   "outputs": [],
   "source": [
    "# save the model to disk\n",
    "pickle.dump(m_rf, open(outdir+\"/\"+filename_model_params, 'wb'))\n",
    " \n",
    "# load the model from disk\n",
    "m_rf = pickle.load(open(outdir+\"/\"+filename_model_params, 'rb'))"
   ]
  },
  {
   "cell_type": "markdown",
   "metadata": {},
   "source": [
    "# Now run MEMs on columns of interest"
   ]
  },
  {
   "cell_type": "code",
   "execution_count": 273,
   "metadata": {},
   "outputs": [],
   "source": [
    "#this directory contains symlink created at command line like this\n",
    "# ln -s ../Marginal_Effects_at_Means ./Marginal_Effects_at_Means\n",
    "#it allows this directory to find Marginal_Effects_at_Means, a directory 1 above this one\n",
    "#this dir contains a file called mem.py which contains MEMs\n",
    "from Marginal_Effects_at_Means.mem import MEMs"
   ]
  },
  {
   "cell_type": "code",
   "execution_count": 274,
   "metadata": {},
   "outputs": [],
   "source": [
    "all = trn.copy().append(tst.copy(), ignore_index=True)\n",
    "all_y = trn_y.copy().append(tst_y.copy(), ignore_index=True)"
   ]
  },
  {
   "cell_type": "code",
   "execution_count": 275,
   "metadata": {},
   "outputs": [
    {
     "data": {
      "text/html": [
       "<div>\n",
       "<style scoped>\n",
       "    .dataframe tbody tr th:only-of-type {\n",
       "        vertical-align: middle;\n",
       "    }\n",
       "\n",
       "    .dataframe tbody tr th {\n",
       "        vertical-align: top;\n",
       "    }\n",
       "\n",
       "    .dataframe thead th {\n",
       "        text-align: right;\n",
       "    }\n",
       "</style>\n",
       "<table border=\"1\" class=\"dataframe\">\n",
       "  <thead>\n",
       "    <tr style=\"text-align: right;\">\n",
       "      <th></th>\n",
       "      <th>cc.age</th>\n",
       "      <th>cc.blackdum</th>\n",
       "      <th>cc.cc16_304</th>\n",
       "      <th>cc.cc16_305_2</th>\n",
       "      <th>cc.cc16_422c</th>\n",
       "      <th>cc.cc16_422d</th>\n",
       "      <th>cc.cc16_422e</th>\n",
       "      <th>cc.cc16_422f</th>\n",
       "      <th>cc.catholic</th>\n",
       "      <th>cc.evanprot</th>\n",
       "      <th>cc.ideo7</th>\n",
       "      <th>cc.inddum</th>\n",
       "      <th>cc.religiosity</th>\n",
       "      <th>cc.repdum</th>\n",
       "      <th>cc.sex</th>\n",
       "      <th>cc.whitedum</th>\n",
       "      <th>cc.emp.nojob</th>\n",
       "      <th>cc.faminc</th>\n",
       "      <th>cc.i.white.educhs</th>\n",
       "      <th>cc.immviewsum</th>\n",
       "      <th>cc.maxeduc.4yr</th>\n",
       "      <th>cc.union</th>\n",
       "      <th>crashpc</th>\n",
       "      <th>demo.popdense</th>\n",
       "      <th>job.uer</th>\n",
       "      <th>mort.ucd.despair.disc95.pdpy</th>\n",
       "      <th>rustpc</th>\n",
       "    </tr>\n",
       "  </thead>\n",
       "  <tbody>\n",
       "    <tr>\n",
       "      <th>0</th>\n",
       "      <td>0.689612</td>\n",
       "      <td>1</td>\n",
       "      <td>0.631982</td>\n",
       "      <td>0</td>\n",
       "      <td>0.517074</td>\n",
       "      <td>0.659101</td>\n",
       "      <td>0.818020</td>\n",
       "      <td>0.386066</td>\n",
       "      <td>0</td>\n",
       "      <td>0</td>\n",
       "      <td>0.225539</td>\n",
       "      <td>1</td>\n",
       "      <td>0.543035</td>\n",
       "      <td>0</td>\n",
       "      <td>1</td>\n",
       "      <td>0</td>\n",
       "      <td>0</td>\n",
       "      <td>1.124369</td>\n",
       "      <td>0</td>\n",
       "      <td>0.000000</td>\n",
       "      <td>0</td>\n",
       "      <td>0</td>\n",
       "      <td>0.954196</td>\n",
       "      <td>0.159130</td>\n",
       "      <td>0.767272</td>\n",
       "      <td>0.785942</td>\n",
       "      <td>0.911288</td>\n",
       "    </tr>\n",
       "    <tr>\n",
       "      <th>1</th>\n",
       "      <td>1.201895</td>\n",
       "      <td>0</td>\n",
       "      <td>0.947973</td>\n",
       "      <td>1</td>\n",
       "      <td>1.551223</td>\n",
       "      <td>0.988651</td>\n",
       "      <td>0.409010</td>\n",
       "      <td>1.158199</td>\n",
       "      <td>0</td>\n",
       "      <td>1</td>\n",
       "      <td>1.127693</td>\n",
       "      <td>1</td>\n",
       "      <td>1.267082</td>\n",
       "      <td>0</td>\n",
       "      <td>0</td>\n",
       "      <td>1</td>\n",
       "      <td>0</td>\n",
       "      <td>1.405461</td>\n",
       "      <td>0</td>\n",
       "      <td>1.275854</td>\n",
       "      <td>0</td>\n",
       "      <td>0</td>\n",
       "      <td>0.271458</td>\n",
       "      <td>0.047007</td>\n",
       "      <td>0.730736</td>\n",
       "      <td>1.020814</td>\n",
       "      <td>0.001882</td>\n",
       "    </tr>\n",
       "    <tr>\n",
       "      <th>2</th>\n",
       "      <td>1.103379</td>\n",
       "      <td>0</td>\n",
       "      <td>0.947973</td>\n",
       "      <td>0</td>\n",
       "      <td>0.517074</td>\n",
       "      <td>0.988651</td>\n",
       "      <td>1.636039</td>\n",
       "      <td>0.772133</td>\n",
       "      <td>0</td>\n",
       "      <td>0</td>\n",
       "      <td>0.902155</td>\n",
       "      <td>1</td>\n",
       "      <td>0.362024</td>\n",
       "      <td>0</td>\n",
       "      <td>0</td>\n",
       "      <td>1</td>\n",
       "      <td>0</td>\n",
       "      <td>0.983823</td>\n",
       "      <td>0</td>\n",
       "      <td>0.425285</td>\n",
       "      <td>1</td>\n",
       "      <td>0</td>\n",
       "      <td>0.201719</td>\n",
       "      <td>0.084833</td>\n",
       "      <td>0.507861</td>\n",
       "      <td>0.880143</td>\n",
       "      <td>0.255189</td>\n",
       "    </tr>\n",
       "    <tr>\n",
       "      <th>3</th>\n",
       "      <td>1.398927</td>\n",
       "      <td>0</td>\n",
       "      <td>0.631982</td>\n",
       "      <td>0</td>\n",
       "      <td>0.517074</td>\n",
       "      <td>0.329550</td>\n",
       "      <td>1.636039</td>\n",
       "      <td>0.386066</td>\n",
       "      <td>0</td>\n",
       "      <td>0</td>\n",
       "      <td>0.451077</td>\n",
       "      <td>1</td>\n",
       "      <td>1.086071</td>\n",
       "      <td>0</td>\n",
       "      <td>1</td>\n",
       "      <td>1</td>\n",
       "      <td>0</td>\n",
       "      <td>1.686553</td>\n",
       "      <td>0</td>\n",
       "      <td>0.000000</td>\n",
       "      <td>1</td>\n",
       "      <td>0</td>\n",
       "      <td>0.383675</td>\n",
       "      <td>0.040013</td>\n",
       "      <td>0.741697</td>\n",
       "      <td>1.058572</td>\n",
       "      <td>0.199546</td>\n",
       "    </tr>\n",
       "    <tr>\n",
       "      <th>4</th>\n",
       "      <td>1.261005</td>\n",
       "      <td>0</td>\n",
       "      <td>0.631982</td>\n",
       "      <td>0</td>\n",
       "      <td>1.034148</td>\n",
       "      <td>0.329550</td>\n",
       "      <td>0.409010</td>\n",
       "      <td>0.386066</td>\n",
       "      <td>0</td>\n",
       "      <td>0</td>\n",
       "      <td>0.676616</td>\n",
       "      <td>1</td>\n",
       "      <td>1.086071</td>\n",
       "      <td>0</td>\n",
       "      <td>0</td>\n",
       "      <td>1</td>\n",
       "      <td>0</td>\n",
       "      <td>1.264915</td>\n",
       "      <td>0</td>\n",
       "      <td>0.425285</td>\n",
       "      <td>0</td>\n",
       "      <td>0</td>\n",
       "      <td>0.069955</td>\n",
       "      <td>0.063948</td>\n",
       "      <td>0.801982</td>\n",
       "      <td>0.834638</td>\n",
       "      <td>0.000000</td>\n",
       "    </tr>\n",
       "  </tbody>\n",
       "</table>\n",
       "</div>"
      ],
      "text/plain": [
       "     cc.age  cc.blackdum  cc.cc16_304  cc.cc16_305_2  cc.cc16_422c  \\\n",
       "0  0.689612            1     0.631982              0      0.517074   \n",
       "1  1.201895            0     0.947973              1      1.551223   \n",
       "2  1.103379            0     0.947973              0      0.517074   \n",
       "3  1.398927            0     0.631982              0      0.517074   \n",
       "4  1.261005            0     0.631982              0      1.034148   \n",
       "\n",
       "   cc.cc16_422d  cc.cc16_422e  cc.cc16_422f  cc.catholic  cc.evanprot  \\\n",
       "0      0.659101      0.818020      0.386066            0            0   \n",
       "1      0.988651      0.409010      1.158199            0            1   \n",
       "2      0.988651      1.636039      0.772133            0            0   \n",
       "3      0.329550      1.636039      0.386066            0            0   \n",
       "4      0.329550      0.409010      0.386066            0            0   \n",
       "\n",
       "   cc.ideo7  cc.inddum  cc.religiosity  cc.repdum  cc.sex  cc.whitedum  \\\n",
       "0  0.225539          1        0.543035          0       1            0   \n",
       "1  1.127693          1        1.267082          0       0            1   \n",
       "2  0.902155          1        0.362024          0       0            1   \n",
       "3  0.451077          1        1.086071          0       1            1   \n",
       "4  0.676616          1        1.086071          0       0            1   \n",
       "\n",
       "   cc.emp.nojob  cc.faminc  cc.i.white.educhs  cc.immviewsum  cc.maxeduc.4yr  \\\n",
       "0             0   1.124369                  0       0.000000               0   \n",
       "1             0   1.405461                  0       1.275854               0   \n",
       "2             0   0.983823                  0       0.425285               1   \n",
       "3             0   1.686553                  0       0.000000               1   \n",
       "4             0   1.264915                  0       0.425285               0   \n",
       "\n",
       "   cc.union   crashpc  demo.popdense   job.uer  mort.ucd.despair.disc95.pdpy  \\\n",
       "0         0  0.954196       0.159130  0.767272                      0.785942   \n",
       "1         0  0.271458       0.047007  0.730736                      1.020814   \n",
       "2         0  0.201719       0.084833  0.507861                      0.880143   \n",
       "3         0  0.383675       0.040013  0.741697                      1.058572   \n",
       "4         0  0.069955       0.063948  0.801982                      0.834638   \n",
       "\n",
       "     rustpc  \n",
       "0  0.911288  \n",
       "1  0.001882  \n",
       "2  0.255189  \n",
       "3  0.199546  \n",
       "4  0.000000  "
      ]
     },
     "execution_count": 275,
     "metadata": {},
     "output_type": "execute_result"
    }
   ],
   "source": [
    "all.head()"
   ]
  },
  {
   "cell_type": "code",
   "execution_count": 276,
   "metadata": {},
   "outputs": [
    {
     "data": {
      "text/plain": [
       "cc.age                          float64\n",
       "cc.blackdum                       int64\n",
       "cc.cc16_304                     float64\n",
       "cc.cc16_305_2                     int64\n",
       "cc.cc16_422c                    float64\n",
       "cc.cc16_422d                    float64\n",
       "cc.cc16_422e                    float64\n",
       "cc.cc16_422f                    float64\n",
       "cc.catholic                       int64\n",
       "cc.evanprot                       int64\n",
       "cc.ideo7                        float64\n",
       "cc.inddum                         int64\n",
       "cc.religiosity                  float64\n",
       "cc.repdum                         int64\n",
       "cc.sex                            int64\n",
       "cc.whitedum                       int64\n",
       "cc.emp.nojob                      int64\n",
       "cc.faminc                       float64\n",
       "cc.i.white.educhs                 int64\n",
       "cc.immviewsum                   float64\n",
       "cc.maxeduc.4yr                    int64\n",
       "cc.union                          int64\n",
       "crashpc                         float64\n",
       "demo.popdense                   float64\n",
       "job.uer                         float64\n",
       "mort.ucd.despair.disc95.pdpy    float64\n",
       "rustpc                          float64\n",
       "dtype: object"
      ]
     },
     "execution_count": 276,
     "metadata": {},
     "output_type": "execute_result"
    },
    {
     "data": {
      "text/plain": [
       "27"
      ]
     },
     "execution_count": 276,
     "metadata": {},
     "output_type": "execute_result"
    }
   ],
   "source": [
    "all.dtypes\n",
    "len(all.columns)"
   ]
  },
  {
   "cell_type": "code",
   "execution_count": 277,
   "metadata": {},
   "outputs": [],
   "source": [
    "#RUN ON WHOLE DATASET OR JUST THE TestSET?  I'm thinking the whole dataset.  \n",
    "# The model has some idea of how voters will vote based on the input features, lets use that knowledge\n",
    "#to see what happens when we start changing variables\n",
    "mems = MEMs(all)"
   ]
  },
  {
   "cell_type": "code",
   "execution_count": 278,
   "metadata": {},
   "outputs": [
    {
     "data": {
      "text/html": [
       "<div>\n",
       "<style scoped>\n",
       "    .dataframe tbody tr th:only-of-type {\n",
       "        vertical-align: middle;\n",
       "    }\n",
       "\n",
       "    .dataframe tbody tr th {\n",
       "        vertical-align: top;\n",
       "    }\n",
       "\n",
       "    .dataframe thead th {\n",
       "        text-align: right;\n",
       "    }\n",
       "</style>\n",
       "<table border=\"1\" class=\"dataframe\">\n",
       "  <thead>\n",
       "    <tr style=\"text-align: right;\">\n",
       "      <th></th>\n",
       "      <th>cc.age</th>\n",
       "      <th>cc.blackdum</th>\n",
       "      <th>cc.cc16_304</th>\n",
       "      <th>cc.cc16_305_2</th>\n",
       "      <th>cc.cc16_422c</th>\n",
       "      <th>cc.cc16_422d</th>\n",
       "      <th>cc.cc16_422e</th>\n",
       "      <th>cc.cc16_422f</th>\n",
       "      <th>cc.catholic</th>\n",
       "      <th>cc.evanprot</th>\n",
       "      <th>cc.ideo7</th>\n",
       "      <th>cc.inddum</th>\n",
       "      <th>cc.religiosity</th>\n",
       "      <th>cc.repdum</th>\n",
       "      <th>cc.sex</th>\n",
       "      <th>cc.whitedum</th>\n",
       "      <th>cc.emp.nojob</th>\n",
       "      <th>cc.faminc</th>\n",
       "      <th>cc.i.white.educhs</th>\n",
       "      <th>cc.immviewsum</th>\n",
       "      <th>cc.maxeduc.4yr</th>\n",
       "      <th>cc.union</th>\n",
       "      <th>crashpc</th>\n",
       "      <th>demo.popdense</th>\n",
       "      <th>job.uer</th>\n",
       "      <th>mort.ucd.despair.disc95.pdpy</th>\n",
       "      <th>rustpc</th>\n",
       "    </tr>\n",
       "  </thead>\n",
       "  <tbody>\n",
       "    <tr>\n",
       "      <th>0</th>\n",
       "      <td>1.02961</td>\n",
       "      <td>0.0538659</td>\n",
       "      <td>0.999562</td>\n",
       "      <td>0.140415</td>\n",
       "      <td>0.942767</td>\n",
       "      <td>0.927069</td>\n",
       "      <td>0.835534</td>\n",
       "      <td>0.931723</td>\n",
       "      <td>0.197307</td>\n",
       "      <td>0.24512</td>\n",
       "      <td>0.931947</td>\n",
       "      <td>1</td>\n",
       "      <td>0.882436</td>\n",
       "      <td>0</td>\n",
       "      <td>0.438342</td>\n",
       "      <td>0.801937</td>\n",
       "      <td>0.0459979</td>\n",
       "      <td>0.977634</td>\n",
       "      <td>0.149342</td>\n",
       "      <td>0.85398</td>\n",
       "      <td>0.282796</td>\n",
       "      <td>0.307006</td>\n",
       "      <td>0.837256</td>\n",
       "      <td>0.189944</td>\n",
       "      <td>0.959738</td>\n",
       "      <td>0.973359</td>\n",
       "      <td>0.724066</td>\n",
       "    </tr>\n",
       "  </tbody>\n",
       "</table>\n",
       "</div>"
      ],
      "text/plain": [
       "    cc.age cc.blackdum cc.cc16_304 cc.cc16_305_2 cc.cc16_422c cc.cc16_422d  \\\n",
       "0  1.02961   0.0538659    0.999562      0.140415     0.942767     0.927069   \n",
       "\n",
       "  cc.cc16_422e cc.cc16_422f cc.catholic cc.evanprot  cc.ideo7 cc.inddum  \\\n",
       "0     0.835534     0.931723    0.197307     0.24512  0.931947         1   \n",
       "\n",
       "  cc.religiosity cc.repdum    cc.sex cc.whitedum cc.emp.nojob cc.faminc  \\\n",
       "0       0.882436         0  0.438342    0.801937    0.0459979  0.977634   \n",
       "\n",
       "  cc.i.white.educhs cc.immviewsum cc.maxeduc.4yr  cc.union   crashpc  \\\n",
       "0          0.149342       0.85398       0.282796  0.307006  0.837256   \n",
       "\n",
       "  demo.popdense   job.uer mort.ucd.despair.disc95.pdpy    rustpc  \n",
       "0      0.189944  0.959738                     0.973359  0.724066  "
      ]
     },
     "execution_count": 278,
     "metadata": {},
     "output_type": "execute_result"
    }
   ],
   "source": [
    "#whats the average look like?\n",
    "mems.df_avg"
   ]
  },
  {
   "cell_type": "markdown",
   "metadata": {},
   "source": [
    "# Results: \n",
    "- For each column\n",
    "    - If binary column generate results on average row with that col set to min() and then max()\n",
    "    - If continuous column generate results on average row with that col set to average and then 1 std deviation above average"
   ]
  },
  {
   "cell_type": "code",
   "execution_count": 279,
   "metadata": {},
   "outputs": [
    {
     "data": {
      "text/plain": [
       "array([[0.874371, 0.125629]])"
      ]
     },
     "execution_count": 279,
     "metadata": {},
     "output_type": "execute_result"
    },
    {
     "data": {
      "text/plain": [
       "(1, 2)"
      ]
     },
     "execution_count": 279,
     "metadata": {},
     "output_type": "execute_result"
    },
    {
     "data": {
      "text/plain": [
       "numpy.ndarray"
      ]
     },
     "execution_count": 279,
     "metadata": {},
     "output_type": "execute_result"
    }
   ],
   "source": [
    "#random forest\n",
    "p=mems.getMEM_avg(m_rf)\n",
    "p\n",
    "p.shape\n",
    "type(p)"
   ]
  },
  {
   "cell_type": "code",
   "execution_count": 280,
   "metadata": {},
   "outputs": [],
   "source": [
    "def getMEM_CSV(m,mems,dep_var,df,type='_rf'):\n",
    "\n",
    "    #The average prediction\n",
    "    avpred = (mems.getMEM_avg(m))[0][1]\n",
    "\n",
    "    #get all the columns we are going to run MEMs on\n",
    "    cols = list(df.columns)\n",
    "#     cols.remove(dep_var)#dump dependant variable\n",
    "\n",
    "    #for binary values, predict when col=0 then predict when col=1, output is probability vote for depvar\n",
    "    #NOTE one of the 2 results below will look like the average from above since the reality is that these values only\n",
    "    #take 1 of 2 values. So the model will treat them as 1 of the 2, not an average of all columns.\n",
    "    #for continuous values, predict when col=average then predict when col is +1 standard deviation away\n",
    "    #output is probability vote for depvar\n",
    "\n",
    "    #what goes in csv\n",
    "    colsr = ['column_name','aveage_val','initval','initval_predict_prob','finalval','finalval_predict_prob', 'final_minus_init']\n",
    "    df_res = pd.DataFrame(columns = colsr)\n",
    "\n",
    "    for col in cols:\n",
    "        p=mems.getMEM_avgplusoneSimple(m, col)\n",
    "        df_res = df_res.append({colsr[0]:col,colsr[1]:float(mems.df_avg[col]),colsr[2]:p[0][0],colsr[3]:p[0][1],\n",
    "                                colsr[4]:p[1][0],colsr[5]:p[1][1],colsr[6]:(p[1][1]-p[0][1])},ignore_index=True )\n",
    "\n",
    "#     df_res.head()\n",
    "    filename = outdir+ \"/MEMS_\" + dep_var +\"_\"+ filter +type+ \".csv\"\n",
    "    \n",
    "    with open(filename, 'w') as f:\n",
    "        f.write(f'Prediction for the average column is {avpred}')\n",
    "        df_res.to_csv(f,encoding = \"ISO-8859-1\")               "
   ]
  },
  {
   "cell_type": "code",
   "execution_count": 281,
   "metadata": {},
   "outputs": [],
   "source": [
    "#firest for rf\n",
    "dftmp = all.copy()\n",
    "getMEM_CSV(m_rf,mems,columns_dep_var,dftmp)"
   ]
  },
  {
   "cell_type": "code",
   "execution_count": 282,
   "metadata": {},
   "outputs": [],
   "source": [
    "# a=outdir+ \"/MEMS_\" + columns_dep_var + filter +'_rf'+ \".csv\"\n",
    "# a"
   ]
  },
  {
   "cell_type": "markdown",
   "metadata": {
    "heading_collapsed": true
   },
   "source": [
    "# See what the difference is between lr and rf"
   ]
  },
  {
   "cell_type": "code",
   "execution_count": 283,
   "metadata": {
    "hidden": true
   },
   "outputs": [
    {
     "ename": "NameError",
     "evalue": "name 'dep_var' is not defined",
     "output_type": "error",
     "traceback": [
      "\u001b[0;31m---------------------------------------------------------------------------\u001b[0m",
      "\u001b[0;31mNameError\u001b[0m                                 Traceback (most recent call last)",
      "\u001b[0;32m<ipython-input-283-48f8ef587f57>\u001b[0m in \u001b[0;36m<module>\u001b[0;34m\u001b[0m\n\u001b[0;32m----> 1\u001b[0;31m \u001b[0mres_rf\u001b[0m\u001b[0;34m=\u001b[0m \u001b[0mpd\u001b[0m\u001b[0;34m.\u001b[0m\u001b[0mread_csv\u001b[0m\u001b[0;34m(\u001b[0m\u001b[0;34m(\u001b[0m\u001b[0moutdir\u001b[0m\u001b[0;34m+\u001b[0m \u001b[0;34m\"/MEMS_\"\u001b[0m \u001b[0;34m+\u001b[0m \u001b[0mdep_var\u001b[0m \u001b[0;34m+\u001b[0m\u001b[0;34m\"_rf.csv\"\u001b[0m\u001b[0;34m)\u001b[0m\u001b[0;34m,\u001b[0m\u001b[0mencoding\u001b[0m \u001b[0;34m=\u001b[0m \u001b[0;34m\"ISO-8859-1\"\u001b[0m\u001b[0;34m)\u001b[0m\u001b[0;34m\u001b[0m\u001b[0m\n\u001b[0m\u001b[1;32m      2\u001b[0m \u001b[0mres_lr\u001b[0m\u001b[0;34m=\u001b[0m \u001b[0mpd\u001b[0m\u001b[0;34m.\u001b[0m\u001b[0mread_csv\u001b[0m\u001b[0;34m(\u001b[0m\u001b[0;34m(\u001b[0m\u001b[0moutdir\u001b[0m\u001b[0;34m+\u001b[0m \u001b[0;34m\"/MEMS_\"\u001b[0m \u001b[0;34m+\u001b[0m \u001b[0mdep_var\u001b[0m \u001b[0;34m+\u001b[0m\u001b[0;34m\"_lr.csv\"\u001b[0m\u001b[0;34m)\u001b[0m\u001b[0;34m,\u001b[0m\u001b[0mencoding\u001b[0m \u001b[0;34m=\u001b[0m \u001b[0;34m\"ISO-8859-1\"\u001b[0m\u001b[0;34m)\u001b[0m\u001b[0;34m\u001b[0m\u001b[0m\n",
      "\u001b[0;31mNameError\u001b[0m: name 'dep_var' is not defined"
     ]
    }
   ],
   "source": [
    "res_rf= pd.read_csv((outdir+ \"/MEMS_\" + dep_var +\"_rf.csv\"),encoding = \"ISO-8859-1\")\n",
    "res_lr= pd.read_csv((outdir+ \"/MEMS_\" + dep_var +\"_lr.csv\"),encoding = \"ISO-8859-1\")"
   ]
  },
  {
   "cell_type": "code",
   "execution_count": null,
   "metadata": {
    "hidden": true
   },
   "outputs": [],
   "source": [
    "res_rf"
   ]
  },
  {
   "cell_type": "code",
   "execution_count": null,
   "metadata": {
    "hidden": true
   },
   "outputs": [],
   "source": [
    "res_lr"
   ]
  },
  {
   "cell_type": "code",
   "execution_count": null,
   "metadata": {
    "hidden": true
   },
   "outputs": [],
   "source": [
    "res_lr.head()\n",
    "res_lr.describe()"
   ]
  },
  {
   "cell_type": "code",
   "execution_count": null,
   "metadata": {
    "hidden": true
   },
   "outputs": [],
   "source": [
    "res_rf1 = res_rf[['column_name','final_minus_init']]\n",
    "res_lr1 = res_lr[['column_name','final_minus_init']]\n"
   ]
  },
  {
   "cell_type": "code",
   "execution_count": null,
   "metadata": {
    "hidden": true
   },
   "outputs": [],
   "source": [
    "res_rf1.describe()"
   ]
  },
  {
   "cell_type": "code",
   "execution_count": null,
   "metadata": {
    "hidden": true
   },
   "outputs": [],
   "source": [
    "vals1 = pd.DataFrame(data=(res_rf1['column_name']))\n",
    "f2 = (res_rf1['final_minus_init'] - res_lr1['final_minus_init']).to_frame()\n",
    "# vals1.merge(((res_rf['final_minus_init'] - res_lr['final_minus_init'])).to_frame())"
   ]
  },
  {
   "cell_type": "code",
   "execution_count": null,
   "metadata": {
    "hidden": true
   },
   "outputs": [],
   "source": [
    "vals1=pd.merge(vals1,f2,left_index=True, right_index=True);"
   ]
  },
  {
   "cell_type": "code",
   "execution_count": null,
   "metadata": {
    "hidden": true
   },
   "outputs": [],
   "source": [
    "vals1.columns"
   ]
  },
  {
   "cell_type": "code",
   "execution_count": null,
   "metadata": {
    "hidden": true
   },
   "outputs": [],
   "source": [
    "# vals1.merge(f2)\n",
    "vals1.sort_values(by=['final_minus_init'], inplace=True)\n",
    "vals1"
   ]
  },
  {
   "cell_type": "code",
   "execution_count": null,
   "metadata": {
    "hidden": true
   },
   "outputs": [],
   "source": [
    "cols = ['cc.Ideo7','cc.Age','cc.CC16_304','cc.CC16_307','cc.raceviewsum','cc.IndDum','cc.Religiosity']\n",
    "res_lr2 = res_lr[(res_lr['column_name'].isin(cols)) ]\n",
    "res_rf2=res_rf[(res_lr['column_name'].isin(cols))]\n",
    "\n",
    "cols_keep =['column_name','initval','initval_predict_prob','finalval','finalval_predict_prob','final_minus_init']\n",
    "res_lr2[cols_keep]\n",
    "res_rf2[cols_keep]"
   ]
  },
  {
   "cell_type": "code",
   "execution_count": null,
   "metadata": {
    "hidden": true
   },
   "outputs": [],
   "source": [
    "# vals['column_name']=res_rf['column_name']\n",
    "\n",
    "# len(vals)"
   ]
  },
  {
   "cell_type": "markdown",
   "metadata": {},
   "source": [
    "# Scratch"
   ]
  }
 ],
 "metadata": {
  "kernelspec": {
   "display_name": "Python 3",
   "language": "python",
   "name": "python3"
  },
  "language_info": {
   "codemirror_mode": {
    "name": "ipython",
    "version": 3
   },
   "file_extension": ".py",
   "mimetype": "text/x-python",
   "name": "python",
   "nbconvert_exporter": "python",
   "pygments_lexer": "ipython3",
   "version": "3.6.6"
  },
  "toc": {
   "base_numbering": 1,
   "nav_menu": {},
   "number_sections": true,
   "sideBar": true,
   "skip_h1_title": false,
   "title_cell": "Table of Contents",
   "title_sidebar": "Contents",
   "toc_cell": false,
   "toc_position": {
    "height": "calc(100% - 180px)",
    "left": "10px",
    "top": "150px",
    "width": "283px"
   },
   "toc_section_display": true,
   "toc_window_display": true
  },
  "varInspector": {
   "cols": {
    "lenName": 16,
    "lenType": 16,
    "lenVar": 40
   },
   "kernels_config": {
    "python": {
     "delete_cmd_postfix": "",
     "delete_cmd_prefix": "del ",
     "library": "var_list.py",
     "varRefreshCmd": "print(var_dic_list())"
    },
    "r": {
     "delete_cmd_postfix": ") ",
     "delete_cmd_prefix": "rm(",
     "library": "var_list.r",
     "varRefreshCmd": "cat(var_dic_list()) "
    }
   },
   "position": {
    "height": "335px",
    "left": "-303px",
    "right": "20px",
    "top": "506px",
    "width": "648px"
   },
   "types_to_exclude": [
    "module",
    "function",
    "builtin_function_or_method",
    "instance",
    "_Feature"
   ],
   "window_display": true
  }
 },
 "nbformat": 4,
 "nbformat_minor": 2
}
